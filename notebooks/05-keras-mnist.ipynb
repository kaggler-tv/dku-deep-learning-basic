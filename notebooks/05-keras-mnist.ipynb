{
 "cells": [
  {
   "cell_type": "markdown",
   "id": "blocked-approach",
   "metadata": {},
   "source": [
    "# 케라스 신경망 예제"
   ]
  },
  {
   "cell_type": "code",
   "execution_count": 2,
   "id": "embedded-tractor",
   "metadata": {
    "ExecuteTime": {
     "end_time": "2021-09-06T19:03:58.230800Z",
     "start_time": "2021-09-06T19:03:57.980227Z"
    }
   },
   "outputs": [],
   "source": [
    "%reload_ext autoreload\n",
    "%autoreload 2\n",
    "%matplotlib inline"
   ]
  },
  {
   "cell_type": "markdown",
   "id": "hungry-toronto",
   "metadata": {},
   "source": [
    "## 단순 신경망 예제"
   ]
  },
  {
   "cell_type": "code",
   "execution_count": 1,
   "id": "chicken-turtle",
   "metadata": {
    "ExecuteTime": {
     "end_time": "2021-09-06T19:03:49.698721Z",
     "start_time": "2021-09-06T19:03:47.714360Z"
    }
   },
   "outputs": [],
   "source": [
    "from tensorflow.keras import Sequential \n",
    "from tensorflow.keras.layers import Dense, InputLayer\n",
    "from tensorflow.keras.utils import plot_model"
   ]
  },
  {
   "cell_type": "code",
   "execution_count": 3,
   "id": "genuine-integration",
   "metadata": {
    "ExecuteTime": {
     "end_time": "2021-09-06T19:04:00.472059Z",
     "start_time": "2021-09-06T19:04:00.412524Z"
    }
   },
   "outputs": [
    {
     "name": "stdout",
     "output_type": "stream",
     "text": [
      "Model: \"sequential\"\n",
      "_________________________________________________________________\n",
      "Layer (type)                 Output Shape              Param #   \n",
      "=================================================================\n",
      "dense (Dense)                (None, 1)                 4         \n",
      "=================================================================\n",
      "Total params: 4\n",
      "Trainable params: 4\n",
      "Non-trainable params: 0\n",
      "_________________________________________________________________\n"
     ]
    }
   ],
   "source": [
    "model = Sequential([\n",
    "    InputLayer(input_shape=(2,)), \n",
    "    Dense(1, activation='relu')\n",
    "])\n",
    "model.compile(loss='mean_squared_error', optimizer='adam')\n",
    "model.summary()"
   ]
  },
  {
   "cell_type": "code",
   "execution_count": 4,
   "id": "stretch-tennis",
   "metadata": {
    "ExecuteTime": {
     "end_time": "2021-09-06T19:04:08.102554Z",
     "start_time": "2021-09-06T19:04:07.802453Z"
    }
   },
   "outputs": [
    {
     "data": {
      "image/png": "[encoded data removed]",
      "text/plain": [
       "<IPython.core.display.Image object>"
      ]
     },
     "execution_count": 4,
     "metadata": {},
     "output_type": "execute_result"
    }
   ],
   "source": [
    "plot_model(model)"
   ]
  },
  {
   "cell_type": "code",
   "execution_count": 5,
   "id": "differential-nation",
   "metadata": {
    "ExecuteTime": {
     "end_time": "2021-09-06T19:04:14.643999Z",
     "start_time": "2021-09-06T19:04:14.583354Z"
    }
   },
   "outputs": [
    {
     "name": "stdout",
     "output_type": "stream",
     "text": [
      "Model: \"sequential_1\"\n",
      "_________________________________________________________________\n",
      "Layer (type)                 Output Shape              Param #   \n",
      "=================================================================\n",
      "dense_1 (Dense)              (None, 2)                 6         \n",
      "_________________________________________________________________\n",
      "dense_2 (Dense)              (None, 1)                 3         \n",
      "=================================================================\n",
      "Total params: 9\n",
      "Trainable params: 9\n",
      "Non-trainable params: 0\n",
      "_________________________________________________________________\n"
     ]
    }
   ],
   "source": [
    "model = Sequential([\n",
    "    InputLayer(input_shape=(2,)), \n",
    "    Dense(2, activation='relu'),\n",
    "    Dense(1)\n",
    "])\n",
    "model.compile(loss='mean_squared_error', optimizer='adam')\n",
    "model.summary()"
   ]
  },
  {
   "cell_type": "code",
   "execution_count": 6,
   "id": "infectious-insulation",
   "metadata": {
    "ExecuteTime": {
     "end_time": "2021-09-06T19:04:26.025651Z",
     "start_time": "2021-09-06T19:04:25.738877Z"
    }
   },
   "outputs": [
    {
     "data": {
      "image/png": "[encoded data removed]",
      "text/plain": [
       "<IPython.core.display.Image object>"
      ]
     },
     "execution_count": 6,
     "metadata": {},
     "output_type": "execute_result"
    }
   ],
   "source": [
    "plot_model(model)"
   ]
  },
  {
   "cell_type": "code",
   "execution_count": 7,
   "id": "differential-birth",
   "metadata": {
    "ExecuteTime": {
     "end_time": "2021-09-06T19:04:32.992967Z",
     "start_time": "2021-09-06T19:04:32.923288Z"
    }
   },
   "outputs": [
    {
     "name": "stdout",
     "output_type": "stream",
     "text": [
      "Model: \"sequential_2\"\n",
      "_________________________________________________________________\n",
      "Layer (type)                 Output Shape              Param #   \n",
      "=================================================================\n",
      "dense_3 (Dense)              (None, 2)                 6         \n",
      "_________________________________________________________________\n",
      "dropout (Dropout)            (None, 2)                 0         \n",
      "_________________________________________________________________\n",
      "dense_4 (Dense)              (None, 2)                 6         \n",
      "_________________________________________________________________\n",
      "dense_5 (Dense)              (None, 1)                 3         \n",
      "=================================================================\n",
      "Total params: 15\n",
      "Trainable params: 15\n",
      "Non-trainable params: 0\n",
      "_________________________________________________________________\n"
     ]
    }
   ],
   "source": [
    "from tensorflow.keras.layers import Dropout\n",
    "\n",
    "model = Sequential([\n",
    "    InputLayer(input_shape=(2,)), \n",
    "    Dense(2, activation='relu'),\n",
    "    Dropout(.5),\n",
    "    Dense(2, activation='relu'),\n",
    "    Dense(1)\n",
    "])\n",
    "model.compile(loss='mean_squared_error', optimizer='adam')\n",
    "model.summary()"
   ]
  },
  {
   "cell_type": "code",
   "execution_count": 8,
   "id": "designing-leone",
   "metadata": {
    "ExecuteTime": {
     "end_time": "2021-09-06T19:04:45.109328Z",
     "start_time": "2021-09-06T19:04:44.811541Z"
    }
   },
   "outputs": [
    {
     "data": {
      "image/png": "[encoded data removed]",
      "text/plain": [
       "<IPython.core.display.Image object>"
      ]
     },
     "execution_count": 8,
     "metadata": {},
     "output_type": "execute_result"
    }
   ],
   "source": [
    "plot_model(model)"
   ]
  },
  {
   "cell_type": "markdown",
   "id": "intensive-muslim",
   "metadata": {},
   "source": [
    "## MNIST 숫자 이미지 분류 모델"
   ]
  },
  {
   "cell_type": "code",
   "execution_count": 93,
   "id": "exciting-vulnerability",
   "metadata": {
    "ExecuteTime": {
     "end_time": "2021-08-30T01:06:40.153737Z",
     "start_time": "2021-08-30T01:06:40.108797Z"
    }
   },
   "outputs": [],
   "source": [
    "from matplotlib import pyplot as plt\n",
    "import pandas as pd\n",
    "from tensorflow.keras import Sequential\n",
    "from tensorflow.keras.datasets import mnist\n",
    "from tensorflow.keras.layers import Dense"
   ]
  },
  {
   "cell_type": "code",
   "execution_count": 94,
   "id": "stable-swedish",
   "metadata": {
    "ExecuteTime": {
     "end_time": "2021-08-30T01:06:41.092168Z",
     "start_time": "2021-08-30T01:06:40.850106Z"
    }
   },
   "outputs": [
    {
     "name": "stdout",
     "output_type": "stream",
     "text": [
      "(60000, 28, 28) (60000,) (10000, 28, 28) [7 2 1 ... 4 5 6]\n"
     ]
    }
   ],
   "source": [
    "(train_images, train_labels), (test_images, test_labels) = mnist.load_data()\n",
    "print(train_images.shape, train_labels.shape, test_images.shape, test_labels)"
   ]
  },
  {
   "cell_type": "code",
   "execution_count": 95,
   "id": "german-holder",
   "metadata": {
    "ExecuteTime": {
     "end_time": "2021-08-30T01:06:41.321402Z",
     "start_time": "2021-08-30T01:06:41.277466Z"
    }
   },
   "outputs": [
    {
     "data": {
      "text/plain": [
       "array([5, 0, 4, ..., 5, 6, 8], dtype=uint8)"
      ]
     },
     "execution_count": 95,
     "metadata": {},
     "output_type": "execute_result"
    }
   ],
   "source": [
    "train_labels"
   ]
  },
  {
   "cell_type": "code",
   "execution_count": 96,
   "id": "revolutionary-enhancement",
   "metadata": {
    "ExecuteTime": {
     "end_time": "2021-08-30T01:06:41.806381Z",
     "start_time": "2021-08-30T01:06:41.763025Z"
    }
   },
   "outputs": [
    {
     "data": {
      "text/plain": [
       "array([7, 2, 1, ..., 4, 5, 6], dtype=uint8)"
      ]
     },
     "execution_count": 96,
     "metadata": {},
     "output_type": "execute_result"
    }
   ],
   "source": [
    "test_labels"
   ]
  },
  {
   "cell_type": "code",
   "execution_count": 97,
   "id": "specified-gathering",
   "metadata": {
    "ExecuteTime": {
     "end_time": "2021-08-30T01:06:42.310985Z",
     "start_time": "2021-08-30T01:06:42.176124Z"
    }
   },
   "outputs": [
    {
     "data": {
      "text/plain": [
       "<matplotlib.image.AxesImage at 0x7f95b202f640>"
      ]
     },
     "execution_count": 97,
     "metadata": {},
     "output_type": "execute_result"
    },
    {
     "data": {
      "image/png": "[encoded data removed]",
      "text/plain": [
       "<Figure size 432x288 with 1 Axes>"
      ]
     },
     "metadata": {},
     "output_type": "display_data"
    }
   ],
   "source": [
    "plt.imshow(test_images[0])"
   ]
  },
  {
   "cell_type": "code",
   "execution_count": 98,
   "id": "assigned-jacob",
   "metadata": {
    "ExecuteTime": {
     "end_time": "2021-08-30T01:06:49.303791Z",
     "start_time": "2021-08-30T01:06:49.218677Z"
    }
   },
   "outputs": [
    {
     "name": "stdout",
     "output_type": "stream",
     "text": [
      "(60000, 784) (60000,) (10000, 784) (10000,)\n"
     ]
    }
   ],
   "source": [
    "X = train_images.reshape((60000, 28 * 28)).astype(\"float32\") / 255 \n",
    "X_tst = test_images.reshape((10000, 28 * 28)).astype(\"float32\") / 255\n",
    "print(X.shape, train_labels.shape, X_tst.shape, test_labels.shape)"
   ]
  },
  {
   "cell_type": "code",
   "execution_count": 99,
   "id": "cooperative-northern",
   "metadata": {
    "ExecuteTime": {
     "end_time": "2021-08-30T01:06:50.697079Z",
     "start_time": "2021-08-30T01:06:50.646822Z"
    }
   },
   "outputs": [],
   "source": [
    "model = Sequential([\n",
    "    Dense(512, activation='relu'),\n",
    "    Dense(10, activation='softmax')\n",
    "])\n",
    "\n",
    "model.compile(optimizer='rmsprop',\n",
    "              loss='sparse_categorical_crossentropy',\n",
    "              metrics=['accuracy'])"
   ]
  },
  {
   "cell_type": "code",
   "execution_count": 100,
   "id": "applied-values",
   "metadata": {
    "ExecuteTime": {
     "end_time": "2021-08-30T01:06:56.165861Z",
     "start_time": "2021-08-30T01:06:52.067415Z"
    }
   },
   "outputs": [
    {
     "name": "stdout",
     "output_type": "stream",
     "text": [
      "Epoch 1/3\n",
      "469/469 [==============================] - 1s 3ms/step - loss: 0.2560 - accuracy: 0.9259\n",
      "Epoch 2/3\n",
      "469/469 [==============================] - 1s 3ms/step - loss: 0.1048 - accuracy: 0.9688\n",
      "Epoch 3/3\n",
      "469/469 [==============================] - 1s 3ms/step - loss: 0.0690 - accuracy: 0.9794\n",
      "Model: \"sequential_14\"\n",
      "_________________________________________________________________\n",
      "Layer (type)                 Output Shape              Param #   \n",
      "=================================================================\n",
      "dense_26 (Dense)             (None, 512)               401920    \n",
      "_________________________________________________________________\n",
      "dense_27 (Dense)             (None, 10)                5130      \n",
      "=================================================================\n",
      "Total params: 407,050\n",
      "Trainable params: 407,050\n",
      "Non-trainable params: 0\n",
      "_________________________________________________________________\n"
     ]
    }
   ],
   "source": [
    "model.fit(X, train_labels, epochs=3, batch_size=128)\n",
    "model.summary()"
   ]
  },
  {
   "cell_type": "code",
   "execution_count": 101,
   "id": "fluid-spain",
   "metadata": {
    "ExecuteTime": {
     "end_time": "2021-08-30T01:06:56.394597Z",
     "start_time": "2021-08-30T01:06:56.168067Z"
    }
   },
   "outputs": [
    {
     "name": "stdout",
     "output_type": "stream",
     "text": [
      "[1.2307868e-08 5.3361421e-10 4.1219532e-06 8.7345055e-05 6.2382571e-11\n",
      " 1.6594444e-06 3.5706971e-12 9.9990547e-01 7.9382784e-07 4.7194584e-07]\n"
     ]
    }
   ],
   "source": [
    "p = model.predict(X_tst)\n",
    "print(p[0])"
   ]
  },
  {
   "cell_type": "code",
   "execution_count": 103,
   "id": "central-month",
   "metadata": {
    "ExecuteTime": {
     "end_time": "2021-08-30T01:06:58.691952Z",
     "start_time": "2021-08-30T01:06:58.518588Z"
    }
   },
   "outputs": [
    {
     "data": {
      "text/plain": [
       "Text(0, 0.5, 'Probability Score')"
      ]
     },
     "execution_count": 103,
     "metadata": {},
     "output_type": "execute_result"
    },
    {
     "data": {
      "image/png": "[encoded data removed]",
      "text/plain": [
       "<Figure size 432x288 with 1 Axes>"
      ]
     },
     "metadata": {},
     "output_type": "display_data"
    }
   ],
   "source": [
    "ax = pd.Series(p[0]).plot.bar()\n",
    "ax.set_xlabel('Digits')\n",
    "ax.set_ylabel('Probability Score')"
   ]
  },
  {
   "cell_type": "code",
   "execution_count": 102,
   "id": "turkish-austria",
   "metadata": {
    "ExecuteTime": {
     "end_time": "2021-08-30T01:06:56.726547Z",
     "start_time": "2021-08-30T01:06:56.396448Z"
    }
   },
   "outputs": [
    {
     "name": "stdout",
     "output_type": "stream",
     "text": [
      "313/313 [==============================] - 0s 651us/step - loss: 0.0754 - accuracy: 0.9762\n",
      "test_acc: 0.9762\n"
     ]
    }
   ],
   "source": [
    "test_loss, test_acc = model.evaluate(X_tst, test_labels)\n",
    "print(f\"test_acc: {test_acc:.4f}\")"
   ]
  },
  {
   "cell_type": "code",
   "execution_count": null,
   "id": "determined-laser",
   "metadata": {},
   "outputs": [],
   "source": []
  }
 ],
 "metadata": {
  "kernelspec": {
   "display_name": "kaggle",
   "language": "python",
   "name": "kaggle"
  },
  "language_info": {
   "codemirror_mode": {
    "name": "ipython",
    "version": 3
   },
   "file_extension": ".py",
   "mimetype": "text/x-python",
   "name": "python",
   "nbconvert_exporter": "python",
   "pygments_lexer": "ipython3",
   "version": "3.8.5"
  },
  "toc": {
   "base_numbering": 1,
   "nav_menu": {},
   "number_sections": true,
   "sideBar": true,
   "skip_h1_title": true,
   "title_cell": "Table of Contents",
   "title_sidebar": "Contents",
   "toc_cell": false,
   "toc_position": {},
   "toc_section_display": true,
   "toc_window_display": false
  }
 },
 "nbformat": 4,
 "nbformat_minor": 5
}
