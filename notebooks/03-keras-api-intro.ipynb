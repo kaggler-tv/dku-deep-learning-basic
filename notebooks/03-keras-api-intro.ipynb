{
 "cells": [
  {
   "cell_type": "markdown",
   "id": "caring-ferry",
   "metadata": {},
   "source": [
    "# 케라스 API 소개"
   ]
  },
  {
   "cell_type": "code",
   "execution_count": 10,
   "id": "macro-black",
   "metadata": {
    "ExecuteTime": {
     "end_time": "2021-09-05T21:09:00.286651Z",
     "start_time": "2021-09-05T21:09:00.284108Z"
    }
   },
   "outputs": [],
   "source": [
    "from pathlib import Path\n",
    "import pandas as pd\n",
    "from sklearn.model_selection import train_test_split"
   ]
  },
  {
   "cell_type": "code",
   "execution_count": 7,
   "id": "optional-target",
   "metadata": {
    "ExecuteTime": {
     "end_time": "2021-09-05T21:05:01.150798Z",
     "start_time": "2021-09-05T21:05:01.147949Z"
    }
   },
   "outputs": [],
   "source": [
    "data_dir = Path('../input/')\n",
    "feature_file = data_dir / 'feature.csv'"
   ]
  },
  {
   "cell_type": "code",
   "execution_count": 8,
   "id": "structured-louisiana",
   "metadata": {
    "ExecuteTime": {
     "end_time": "2021-09-05T21:06:54.900998Z",
     "start_time": "2021-09-05T21:06:54.898253Z"
    }
   },
   "outputs": [],
   "source": [
    "target_col = 'class'\n",
    "id_col = 'id'\n",
    "n_class = 3\n",
    "n_trn = 320000\n",
    "seed = 42"
   ]
  },
  {
   "cell_type": "code",
   "execution_count": 6,
   "id": "entitled-domain",
   "metadata": {
    "ExecuteTime": {
     "end_time": "2021-09-05T21:03:55.630993Z",
     "start_time": "2021-09-05T21:03:54.663382Z"
    },
    "scrolled": true
   },
   "outputs": [
    {
     "name": "stdout",
     "output_type": "stream",
     "text": [
      "(400000, 20)\n"
     ]
    },
    {
     "data": {
      "text/html": [
       "<div>\n",
       "<style scoped>\n",
       "    .dataframe tbody tr th:only-of-type {\n",
       "        vertical-align: middle;\n",
       "    }\n",
       "\n",
       "    .dataframe tbody tr th {\n",
       "        vertical-align: top;\n",
       "    }\n",
       "\n",
       "    .dataframe thead th {\n",
       "        text-align: right;\n",
       "    }\n",
       "</style>\n",
       "<table border=\"1\" class=\"dataframe\">\n",
       "  <thead>\n",
       "    <tr style=\"text-align: right;\">\n",
       "      <th></th>\n",
       "      <th>z</th>\n",
       "      <th>redshift</th>\n",
       "      <th>dered_u</th>\n",
       "      <th>dered_g</th>\n",
       "      <th>dered_r</th>\n",
       "      <th>dered_i</th>\n",
       "      <th>dered_z</th>\n",
       "      <th>nObserve</th>\n",
       "      <th>airmass_u</th>\n",
       "      <th>class</th>\n",
       "      <th>d_dered_u</th>\n",
       "      <th>d_dered_g</th>\n",
       "      <th>d_dered_r</th>\n",
       "      <th>d_dered_i</th>\n",
       "      <th>d_dered_z</th>\n",
       "      <th>d_dered_ig</th>\n",
       "      <th>d_dered_zg</th>\n",
       "      <th>d_dered_rz</th>\n",
       "      <th>d_dered_iz</th>\n",
       "      <th>d_obs_det</th>\n",
       "    </tr>\n",
       "    <tr>\n",
       "      <th>id</th>\n",
       "      <th></th>\n",
       "      <th></th>\n",
       "      <th></th>\n",
       "      <th></th>\n",
       "      <th></th>\n",
       "      <th></th>\n",
       "      <th></th>\n",
       "      <th></th>\n",
       "      <th></th>\n",
       "      <th></th>\n",
       "      <th></th>\n",
       "      <th></th>\n",
       "      <th></th>\n",
       "      <th></th>\n",
       "      <th></th>\n",
       "      <th></th>\n",
       "      <th></th>\n",
       "      <th></th>\n",
       "      <th></th>\n",
       "      <th></th>\n",
       "    </tr>\n",
       "  </thead>\n",
       "  <tbody>\n",
       "    <tr>\n",
       "      <th>0</th>\n",
       "      <td>16.939607</td>\n",
       "      <td>-0.000081</td>\n",
       "      <td>23.12426</td>\n",
       "      <td>20.25779</td>\n",
       "      <td>18.95512</td>\n",
       "      <td>17.63211</td>\n",
       "      <td>16.90894</td>\n",
       "      <td>2.944439</td>\n",
       "      <td>1.189764</td>\n",
       "      <td>0.0</td>\n",
       "      <td>-0.139696</td>\n",
       "      <td>-0.078983</td>\n",
       "      <td>-0.054380</td>\n",
       "      <td>-0.040329</td>\n",
       "      <td>-0.030667</td>\n",
       "      <td>-2.62568</td>\n",
       "      <td>-3.34885</td>\n",
       "      <td>2.04618</td>\n",
       "      <td>0.72317</td>\n",
       "      <td>-15.055561</td>\n",
       "    </tr>\n",
       "    <tr>\n",
       "      <th>1</th>\n",
       "      <td>13.168941</td>\n",
       "      <td>0.004506</td>\n",
       "      <td>14.96642</td>\n",
       "      <td>14.00452</td>\n",
       "      <td>13.41139</td>\n",
       "      <td>13.23625</td>\n",
       "      <td>13.13468</td>\n",
       "      <td>0.693147</td>\n",
       "      <td>1.253254</td>\n",
       "      <td>1.0</td>\n",
       "      <td>-0.085727</td>\n",
       "      <td>-0.057449</td>\n",
       "      <td>-0.041028</td>\n",
       "      <td>-0.032200</td>\n",
       "      <td>-0.034261</td>\n",
       "      <td>-0.76827</td>\n",
       "      <td>-0.86984</td>\n",
       "      <td>0.27671</td>\n",
       "      <td>0.10157</td>\n",
       "      <td>-0.306853</td>\n",
       "    </tr>\n",
       "    <tr>\n",
       "      <th>2</th>\n",
       "      <td>15.350032</td>\n",
       "      <td>0.000472</td>\n",
       "      <td>16.60765</td>\n",
       "      <td>15.68659</td>\n",
       "      <td>15.44004</td>\n",
       "      <td>15.32173</td>\n",
       "      <td>15.29608</td>\n",
       "      <td>1.098612</td>\n",
       "      <td>1.022499</td>\n",
       "      <td>0.0</td>\n",
       "      <td>-0.178735</td>\n",
       "      <td>-0.138836</td>\n",
       "      <td>-0.096278</td>\n",
       "      <td>-0.071805</td>\n",
       "      <td>-0.053952</td>\n",
       "      <td>-0.36486</td>\n",
       "      <td>-0.39051</td>\n",
       "      <td>0.14396</td>\n",
       "      <td>0.02565</td>\n",
       "      <td>-0.901388</td>\n",
       "    </tr>\n",
       "    <tr>\n",
       "      <th>3</th>\n",
       "      <td>19.634649</td>\n",
       "      <td>0.000006</td>\n",
       "      <td>25.35365</td>\n",
       "      <td>20.99465</td>\n",
       "      <td>20.08727</td>\n",
       "      <td>19.79465</td>\n",
       "      <td>19.55518</td>\n",
       "      <td>1.609438</td>\n",
       "      <td>1.205399</td>\n",
       "      <td>0.0</td>\n",
       "      <td>-0.306988</td>\n",
       "      <td>-0.194077</td>\n",
       "      <td>-0.133888</td>\n",
       "      <td>-0.100299</td>\n",
       "      <td>-0.079469</td>\n",
       "      <td>-1.20000</td>\n",
       "      <td>-1.43947</td>\n",
       "      <td>0.53209</td>\n",
       "      <td>0.23947</td>\n",
       "      <td>-1.390562</td>\n",
       "    </tr>\n",
       "    <tr>\n",
       "      <th>4</th>\n",
       "      <td>17.982649</td>\n",
       "      <td>-0.000033</td>\n",
       "      <td>23.77140</td>\n",
       "      <td>20.43384</td>\n",
       "      <td>18.86299</td>\n",
       "      <td>18.19028</td>\n",
       "      <td>17.87592</td>\n",
       "      <td>2.639057</td>\n",
       "      <td>1.193946</td>\n",
       "      <td>0.0</td>\n",
       "      <td>-0.682029</td>\n",
       "      <td>-0.265330</td>\n",
       "      <td>-0.179378</td>\n",
       "      <td>-0.133872</td>\n",
       "      <td>-0.106729</td>\n",
       "      <td>-2.24356</td>\n",
       "      <td>-2.55792</td>\n",
       "      <td>0.98707</td>\n",
       "      <td>0.31436</td>\n",
       "      <td>-9.360943</td>\n",
       "    </tr>\n",
       "  </tbody>\n",
       "</table>\n",
       "</div>"
      ],
      "text/plain": [
       "            z  redshift   dered_u   dered_g   dered_r   dered_i   dered_z  \\\n",
       "id                                                                          \n",
       "0   16.939607 -0.000081  23.12426  20.25779  18.95512  17.63211  16.90894   \n",
       "1   13.168941  0.004506  14.96642  14.00452  13.41139  13.23625  13.13468   \n",
       "2   15.350032  0.000472  16.60765  15.68659  15.44004  15.32173  15.29608   \n",
       "3   19.634649  0.000006  25.35365  20.99465  20.08727  19.79465  19.55518   \n",
       "4   17.982649 -0.000033  23.77140  20.43384  18.86299  18.19028  17.87592   \n",
       "\n",
       "    nObserve  airmass_u  class  d_dered_u  d_dered_g  d_dered_r  d_dered_i  \\\n",
       "id                                                                           \n",
       "0   2.944439   1.189764    0.0  -0.139696  -0.078983  -0.054380  -0.040329   \n",
       "1   0.693147   1.253254    1.0  -0.085727  -0.057449  -0.041028  -0.032200   \n",
       "2   1.098612   1.022499    0.0  -0.178735  -0.138836  -0.096278  -0.071805   \n",
       "3   1.609438   1.205399    0.0  -0.306988  -0.194077  -0.133888  -0.100299   \n",
       "4   2.639057   1.193946    0.0  -0.682029  -0.265330  -0.179378  -0.133872   \n",
       "\n",
       "    d_dered_z  d_dered_ig  d_dered_zg  d_dered_rz  d_dered_iz  d_obs_det  \n",
       "id                                                                        \n",
       "0   -0.030667    -2.62568    -3.34885     2.04618     0.72317 -15.055561  \n",
       "1   -0.034261    -0.76827    -0.86984     0.27671     0.10157  -0.306853  \n",
       "2   -0.053952    -0.36486    -0.39051     0.14396     0.02565  -0.901388  \n",
       "3   -0.079469    -1.20000    -1.43947     0.53209     0.23947  -1.390562  \n",
       "4   -0.106729    -2.24356    -2.55792     0.98707     0.31436  -9.360943  "
      ]
     },
     "execution_count": 6,
     "metadata": {},
     "output_type": "execute_result"
    }
   ],
   "source": [
    "df = pd.read_csv(feature_file, index_col=id_col)\n",
    "print(df.shape)\n",
    "df.head()"
   ]
  },
  {
   "cell_type": "code",
   "execution_count": 11,
   "id": "sought-relief",
   "metadata": {
    "ExecuteTime": {
     "end_time": "2021-09-05T21:10:41.579332Z",
     "start_time": "2021-09-05T21:10:41.490126Z"
    }
   },
   "outputs": [
    {
     "name": "stdout",
     "output_type": "stream",
     "text": [
      "(256000, 19) (64000, 19) (256000,) (64000,)\n"
     ]
    }
   ],
   "source": [
    "X_trn, X_val, y_trn, y_val = train_test_split(df.iloc[:n_trn].drop(target_col, axis=1), \n",
    "                                              df.iloc[:n_trn][target_col],\n",
    "                                              test_size=.2, random_state=seed)\n",
    "print(X_trn.shape, X_val.shape, y_trn.shape, y_val.shape)"
   ]
  },
  {
   "cell_type": "markdown",
   "id": "flush-merchandise",
   "metadata": {},
   "source": [
    "## 순차적 (Sequential) API"
   ]
  },
  {
   "cell_type": "code",
   "execution_count": 16,
   "id": "statutory-christian",
   "metadata": {
    "ExecuteTime": {
     "end_time": "2021-09-05T21:13:00.453019Z",
     "start_time": "2021-09-05T21:13:00.450499Z"
    }
   },
   "outputs": [],
   "source": [
    "from tensorflow import keras\n",
    "from tensorflow.keras.models import Sequential\n",
    "from tensorflow.keras.layers import Dense\n",
    "from tensorflow.keras.utils import plot_model"
   ]
  },
  {
   "cell_type": "code",
   "execution_count": 9,
   "id": "occupational-empire",
   "metadata": {
    "ExecuteTime": {
     "end_time": "2021-09-05T21:08:12.152400Z",
     "start_time": "2021-09-05T21:08:12.135422Z"
    }
   },
   "outputs": [],
   "source": [
    "model = Sequential()\n",
    "\n",
    "model.add(Dense(units=64, activation='relu'))\n",
    "model.add(Dense(units=n_class, activation='softmax'))\n",
    "model.compile(loss='sparse_categorical_crossentropy',\n",
    "              optimizer='adam')"
   ]
  },
  {
   "cell_type": "code",
   "execution_count": 12,
   "id": "unexpected-dubai",
   "metadata": {
    "ExecuteTime": {
     "end_time": "2021-09-05T21:11:21.376775Z",
     "start_time": "2021-09-05T21:11:00.915859Z"
    }
   },
   "outputs": [
    {
     "name": "stdout",
     "output_type": "stream",
     "text": [
      "Epoch 1/5\n",
      "8000/8000 [==============================] - 4s 509us/step - loss: 0.7653\n",
      "Epoch 2/5\n",
      "8000/8000 [==============================] - 4s 506us/step - loss: 0.3875\n",
      "Epoch 3/5\n",
      "8000/8000 [==============================] - 4s 497us/step - loss: 0.2963\n",
      "Epoch 4/5\n",
      "8000/8000 [==============================] - 4s 496us/step - loss: 0.2699\n",
      "Epoch 5/5\n",
      "8000/8000 [==============================] - 4s 495us/step - loss: 0.2559\n"
     ]
    },
    {
     "data": {
      "text/plain": [
       "<tensorflow.python.keras.callbacks.History at 0x7f9328935220>"
      ]
     },
     "execution_count": 12,
     "metadata": {},
     "output_type": "execute_result"
    }
   ],
   "source": [
    "model.fit(X_trn, y_trn, epochs=5)"
   ]
  },
  {
   "cell_type": "code",
   "execution_count": 15,
   "id": "dense-headquarters",
   "metadata": {
    "ExecuteTime": {
     "end_time": "2021-09-05T21:11:57.349731Z",
     "start_time": "2021-09-05T21:11:57.346067Z"
    }
   },
   "outputs": [
    {
     "data": {
      "text/plain": [
       "(64000, 3)"
      ]
     },
     "execution_count": 15,
     "metadata": {},
     "output_type": "execute_result"
    }
   ],
   "source": [
    "p_val = model.predict(X_val)\n",
    "p_val.shape"
   ]
  },
  {
   "cell_type": "code",
   "execution_count": 17,
   "id": "paperback-latter",
   "metadata": {
    "ExecuteTime": {
     "end_time": "2021-09-05T21:13:06.599202Z",
     "start_time": "2021-09-05T21:13:06.275337Z"
    }
   },
   "outputs": [
    {
     "data": {
      "image/png": "[encoded data removed]",
      "text/plain": [
       "<IPython.core.display.Image object>"
      ]
     },
     "execution_count": 17,
     "metadata": {},
     "output_type": "execute_result"
    }
   ],
   "source": [
    "plot_model(model)"
   ]
  },
  {
   "cell_type": "markdown",
   "id": "cheap-brighton",
   "metadata": {},
   "source": [
    "## 함수적 (Functional) API"
   ]
  },
  {
   "cell_type": "code",
   "execution_count": 18,
   "id": "attended-exclusion",
   "metadata": {
    "ExecuteTime": {
     "end_time": "2021-09-05T21:15:24.273214Z",
     "start_time": "2021-09-05T21:15:24.270338Z"
    }
   },
   "outputs": [],
   "source": [
    "from tensorflow.keras import Input, Model"
   ]
  },
  {
   "cell_type": "code",
   "execution_count": 19,
   "id": "smooth-upper",
   "metadata": {
    "ExecuteTime": {
     "end_time": "2021-09-05T21:16:33.857898Z",
     "start_time": "2021-09-05T21:16:33.831654Z"
    }
   },
   "outputs": [],
   "source": [
    "inputs = Input(shape=(X_trn.shape[1],))\n",
    "x = Dense(64, activation='relu')(inputs)\n",
    "outputs = Dense(n_class, activation='softmax')(x)\n",
    "model = Model(inputs=inputs, outputs=outputs)\n",
    "model.compile(loss='sparse_categorical_crossentropy',\n",
    "              optimizer='adam')"
   ]
  },
  {
   "cell_type": "code",
   "execution_count": 20,
   "id": "banner-romance",
   "metadata": {
    "ExecuteTime": {
     "end_time": "2021-09-05T21:17:10.375420Z",
     "start_time": "2021-09-05T21:16:49.847318Z"
    }
   },
   "outputs": [
    {
     "name": "stdout",
     "output_type": "stream",
     "text": [
      "Epoch 1/5\n",
      "8000/8000 [==============================] - 4s 513us/step - loss: 0.7498\n",
      "Epoch 2/5\n",
      "8000/8000 [==============================] - 4s 512us/step - loss: 0.4035\n",
      "Epoch 3/5\n",
      "8000/8000 [==============================] - 4s 509us/step - loss: 0.2845\n",
      "Epoch 4/5\n",
      "8000/8000 [==============================] - 4s 503us/step - loss: 0.2653\n",
      "Epoch 5/5\n",
      "8000/8000 [==============================] - 4s 498us/step - loss: 0.2553\n"
     ]
    },
    {
     "data": {
      "text/plain": [
       "<tensorflow.python.keras.callbacks.History at 0x7f9324b29250>"
      ]
     },
     "execution_count": 20,
     "metadata": {},
     "output_type": "execute_result"
    }
   ],
   "source": [
    "model.fit(X_trn, y_trn, epochs=5)"
   ]
  },
  {
   "cell_type": "code",
   "execution_count": 21,
   "id": "dried-casino",
   "metadata": {
    "ExecuteTime": {
     "end_time": "2021-09-05T21:17:11.015608Z",
     "start_time": "2021-09-05T21:17:10.377117Z"
    }
   },
   "outputs": [
    {
     "data": {
      "text/plain": [
       "(64000, 3)"
      ]
     },
     "execution_count": 21,
     "metadata": {},
     "output_type": "execute_result"
    }
   ],
   "source": [
    "p_val = model.predict(X_val)\n",
    "p_val.shape"
   ]
  },
  {
   "cell_type": "markdown",
   "id": "oriented-restaurant",
   "metadata": {},
   "source": [
    "## 객체지향적 (Object Oriented) API"
   ]
  },
  {
   "cell_type": "code",
   "execution_count": 27,
   "id": "freelance-gamma",
   "metadata": {
    "ExecuteTime": {
     "end_time": "2021-09-05T21:22:31.218204Z",
     "start_time": "2021-09-05T21:22:31.213171Z"
    }
   },
   "outputs": [],
   "source": [
    "import tensorflow as tf\n",
    "from tensorflow.keras.layers import Layer\n",
    "\n",
    "class SimpleDense(Layer):\n",
    "    \n",
    "    def __init__(self, units, activation=None):\n",
    "        super().__init__()\n",
    "        self.units = units\n",
    "        self.activation = activation\n",
    "        \n",
    "    def build(self, input_shape):\n",
    "        input_dim = input_shape[-1]\n",
    "        self.W = self.add_weight(shape=(input_dim, self.units),\n",
    "                                 initializer='random_normal')\n",
    "        self.b = self.add_weight(shape=(self.units,),\n",
    "                                 initializer='zeros')\n",
    "        \n",
    "    def call(self, inputs):\n",
    "        y = tf.matmul(inputs, self.W) + self.b\n",
    "        if self.activation is not None:\n",
    "            y = self.activation(y)\n",
    "        return y"
   ]
  },
  {
   "cell_type": "code",
   "execution_count": 28,
   "id": "engaged-discretion",
   "metadata": {
    "ExecuteTime": {
     "end_time": "2021-09-05T21:22:34.375287Z",
     "start_time": "2021-09-05T21:22:34.365953Z"
    }
   },
   "outputs": [],
   "source": [
    "from tensorflow.keras.activations import relu, softmax\n",
    "\n",
    "model = Sequential()\n",
    "\n",
    "model.add(SimpleDense(units=64, activation=relu))\n",
    "model.add(SimpleDense(units=n_class, activation=softmax))\n",
    "model.compile(loss='sparse_categorical_crossentropy',\n",
    "              optimizer='adam')"
   ]
  },
  {
   "cell_type": "code",
   "execution_count": 29,
   "id": "broken-district",
   "metadata": {
    "ExecuteTime": {
     "end_time": "2021-09-05T21:22:55.381215Z",
     "start_time": "2021-09-05T21:22:34.668893Z"
    }
   },
   "outputs": [
    {
     "name": "stdout",
     "output_type": "stream",
     "text": [
      "Epoch 1/5\n",
      "8000/8000 [==============================] - 4s 515us/step - loss: 0.7172\n",
      "Epoch 2/5\n",
      "8000/8000 [==============================] - 4s 513us/step - loss: 0.3238\n",
      "Epoch 3/5\n",
      "8000/8000 [==============================] - 4s 514us/step - loss: 0.2701\n",
      "Epoch 4/5\n",
      "8000/8000 [==============================] - 4s 509us/step - loss: 0.2575\n",
      "Epoch 5/5\n",
      "8000/8000 [==============================] - 4s 502us/step - loss: 0.2504\n"
     ]
    },
    {
     "data": {
      "text/plain": [
       "<tensorflow.python.keras.callbacks.History at 0x7f932880f820>"
      ]
     },
     "execution_count": 29,
     "metadata": {},
     "output_type": "execute_result"
    }
   ],
   "source": [
    "model.fit(X_trn, y_trn, epochs=5)"
   ]
  },
  {
   "cell_type": "code",
   "execution_count": 30,
   "id": "cordless-palestine",
   "metadata": {
    "ExecuteTime": {
     "end_time": "2021-09-05T21:22:55.385282Z",
     "start_time": "2021-09-05T21:22:55.382737Z"
    }
   },
   "outputs": [
    {
     "name": "stdout",
     "output_type": "stream",
     "text": [
      "Model: \"sequential_3\"\n",
      "_________________________________________________________________\n",
      "Layer (type)                 Output Shape              Param #   \n",
      "=================================================================\n",
      "simple_dense_4 (SimpleDense) (32, 64)                  1280      \n",
      "_________________________________________________________________\n",
      "simple_dense_5 (SimpleDense) (32, 3)                   195       \n",
      "=================================================================\n",
      "Total params: 1,475\n",
      "Trainable params: 1,475\n",
      "Non-trainable params: 0\n",
      "_________________________________________________________________\n"
     ]
    }
   ],
   "source": [
    "model.summary()"
   ]
  },
  {
   "cell_type": "code",
   "execution_count": null,
   "id": "grand-vinyl",
   "metadata": {},
   "outputs": [],
   "source": []
  }
 ],
 "metadata": {
  "kernelspec": {
   "display_name": "kaggle",
   "language": "python",
   "name": "kaggle"
  },
  "language_info": {
   "codemirror_mode": {
    "name": "ipython",
    "version": 3
   },
   "file_extension": ".py",
   "mimetype": "text/x-python",
   "name": "python",
   "nbconvert_exporter": "python",
   "pygments_lexer": "ipython3",
   "version": "3.8.5"
  },
  "toc": {
   "base_numbering": 1,
   "nav_menu": {},
   "number_sections": true,
   "sideBar": true,
   "skip_h1_title": true,
   "title_cell": "Table of Contents",
   "title_sidebar": "Contents",
   "toc_cell": false,
   "toc_position": {},
   "toc_section_display": true,
   "toc_window_display": true
  }
 },
 "nbformat": 4,
 "nbformat_minor": 5
}
