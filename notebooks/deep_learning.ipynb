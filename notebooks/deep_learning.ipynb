{
 "cells": [
  {
   "cell_type": "code",
   "execution_count": 1,
   "id": "embedded-tractor",
   "metadata": {
    "ExecuteTime": {
     "end_time": "2021-08-25T16:34:57.586007Z",
     "start_time": "2021-08-25T16:34:57.331061Z"
    }
   },
   "outputs": [],
   "source": [
    "%reload_ext autoreload\n",
    "%autoreload 2\n",
    "%matplotlib inline"
   ]
  },
  {
   "cell_type": "code",
   "execution_count": 16,
   "id": "gorgeous-recognition",
   "metadata": {
    "ExecuteTime": {
     "end_time": "2021-08-29T23:32:20.780013Z",
     "start_time": "2021-08-29T23:32:20.736175Z"
    }
   },
   "outputs": [],
   "source": [
    "from matplotlib import pyplot as plt\n",
    "import seaborn as sns\n",
    "\n",
    "plt.style.use('fivethirtyeight')"
   ]
  },
  {
   "cell_type": "markdown",
   "id": "fifth-hamilton",
   "metadata": {},
   "source": [
    "## Unit 3 딥러닝 기초 수학"
   ]
  },
  {
   "cell_type": "code",
   "execution_count": 23,
   "id": "inner-annex",
   "metadata": {
    "ExecuteTime": {
     "end_time": "2021-08-29T23:38:12.402343Z",
     "start_time": "2021-08-29T23:38:12.222895Z"
    }
   },
   "outputs": [
    {
     "data": {
      "text/plain": [
       "Text(0, 0.5, '$J(\\\\theta_1)$')"
      ]
     },
     "execution_count": 23,
     "metadata": {},
     "output_type": "execute_result"
    },
    {
     "data": {
      "image/png": "[encoded data removed]",
      "text/plain": [
       "<Figure size 432x288 with 1 Axes>"
      ]
     },
     "metadata": {},
     "output_type": "display_data"
    }
   ],
   "source": [
    "import numpy as np\n",
    "\n",
    "x = np.linspace(-10, 10, 100)\n",
    "y = x ** 2\n",
    "\n",
    "plt.figure()\n",
    "plt.plot(x, y)\n",
    "plt.xlabel(r'$\\theta_1$')\n",
    "plt.ylabel(r'$J(\\theta_1)$')"
   ]
  },
  {
   "cell_type": "code",
   "execution_count": 105,
   "id": "cubic-waterproof",
   "metadata": {
    "ExecuteTime": {
     "end_time": "2021-08-30T02:21:50.497485Z",
     "start_time": "2021-08-30T02:21:50.449784Z"
    }
   },
   "outputs": [
    {
     "name": "stdout",
     "output_type": "stream",
     "text": [
      "tf.Tensor(\n",
      "[[1.]\n",
      " [1.]], shape=(2, 1), dtype=float32)\n",
      "tf.Tensor(\n",
      "[[0.]\n",
      " [0.]], shape=(2, 1), dtype=float32)\n"
     ]
    }
   ],
   "source": [
    "import tensorflow as tf\n",
    "\n",
    "x = tf.ones(shape=(2, 1))\n",
    "print(x)\n",
    "\n",
    "x = tf.zeros(shape=(2, 1))\n",
    "print(x)"
   ]
  },
  {
   "cell_type": "code",
   "execution_count": 106,
   "id": "german-apollo",
   "metadata": {
    "ExecuteTime": {
     "end_time": "2021-08-30T02:22:13.279210Z",
     "start_time": "2021-08-30T02:22:13.234131Z"
    }
   },
   "outputs": [
    {
     "name": "stdout",
     "output_type": "stream",
     "text": [
      "tf.Tensor(\n",
      "[[-0.6448786 ]\n",
      " [-0.8952123 ]\n",
      " [ 0.26810464]], shape=(3, 1), dtype=float32)\n"
     ]
    }
   ],
   "source": [
    "x = tf.random.normal(shape=(3, 1), mean=0., stddev=1.)\n",
    "print(x)"
   ]
  },
  {
   "cell_type": "code",
   "execution_count": 107,
   "id": "surface-reach",
   "metadata": {
    "ExecuteTime": {
     "end_time": "2021-08-30T02:22:34.868296Z",
     "start_time": "2021-08-30T02:22:34.822357Z"
    }
   },
   "outputs": [
    {
     "name": "stdout",
     "output_type": "stream",
     "text": [
      "tf.Tensor(\n",
      "[[0.5090333 ]\n",
      " [0.44601667]\n",
      " [0.39412355]], shape=(3, 1), dtype=float32)\n"
     ]
    }
   ],
   "source": [
    "x = tf.random.uniform(shape=(3, 1), minval=0., maxval=1.)\n",
    "print(x)"
   ]
  },
  {
   "cell_type": "code",
   "execution_count": 108,
   "id": "superior-instruction",
   "metadata": {
    "ExecuteTime": {
     "end_time": "2021-08-30T02:23:10.662373Z",
     "start_time": "2021-08-30T02:23:10.610998Z"
    }
   },
   "outputs": [
    {
     "ename": "TypeError",
     "evalue": "'tensorflow.python.framework.ops.EagerTensor' object does not support item assignment",
     "output_type": "error",
     "traceback": [
      "\u001b[0;31m---------------------------------------------------------------------------\u001b[0m",
      "\u001b[0;31mTypeError\u001b[0m                                 Traceback (most recent call last)",
      "\u001b[0;32m<ipython-input-108-a4ff8c2c9296>\u001b[0m in \u001b[0;36m<module>\u001b[0;34m\u001b[0m\n\u001b[0;32m----> 1\u001b[0;31m \u001b[0mx\u001b[0m\u001b[0;34m[\u001b[0m\u001b[0;36m0\u001b[0m\u001b[0;34m,\u001b[0m \u001b[0;36m0\u001b[0m\u001b[0;34m]\u001b[0m \u001b[0;34m=\u001b[0m \u001b[0;36m0.\u001b[0m\u001b[0;34m\u001b[0m\u001b[0;34m\u001b[0m\u001b[0m\n\u001b[0m",
      "\u001b[0;31mTypeError\u001b[0m: 'tensorflow.python.framework.ops.EagerTensor' object does not support item assignment"
     ]
    }
   ],
   "source": [
    "x[0, 0] = 0."
   ]
  },
  {
   "cell_type": "code",
   "execution_count": 109,
   "id": "knowing-counter",
   "metadata": {
    "ExecuteTime": {
     "end_time": "2021-08-30T02:23:31.003719Z",
     "start_time": "2021-08-30T02:23:30.955627Z"
    }
   },
   "outputs": [
    {
     "name": "stdout",
     "output_type": "stream",
     "text": [
      "<tf.Variable 'Variable:0' shape=(3, 1) dtype=float32, numpy=\n",
      "array([[ 1.2899868 ],\n",
      "       [-0.18472943],\n",
      "       [ 1.1037753 ]], dtype=float32)>\n"
     ]
    }
   ],
   "source": [
    "v = tf.Variable(initial_value=tf.random.normal(shape=(3, 1)))\n",
    "print(v)"
   ]
  },
  {
   "cell_type": "code",
   "execution_count": 111,
   "id": "collected-abraham",
   "metadata": {
    "ExecuteTime": {
     "end_time": "2021-08-30T02:24:08.550847Z",
     "start_time": "2021-08-30T02:24:08.504285Z"
    }
   },
   "outputs": [
    {
     "data": {
      "text/plain": [
       "<tf.Variable 'UnreadVariable' shape=(3, 1) dtype=float32, numpy=\n",
       "array([[1.],\n",
       "       [1.],\n",
       "       [1.]], dtype=float32)>"
      ]
     },
     "execution_count": 111,
     "metadata": {},
     "output_type": "execute_result"
    }
   ],
   "source": [
    "v.assign(tf.ones((3, 1)))"
   ]
  },
  {
   "cell_type": "code",
   "execution_count": 112,
   "id": "suffering-thinking",
   "metadata": {
    "ExecuteTime": {
     "end_time": "2021-08-30T02:24:19.636806Z",
     "start_time": "2021-08-30T02:24:19.588561Z"
    }
   },
   "outputs": [
    {
     "data": {
      "text/plain": [
       "<tf.Variable 'UnreadVariable' shape=(3, 1) dtype=float32, numpy=\n",
       "array([[3.],\n",
       "       [1.],\n",
       "       [1.]], dtype=float32)>"
      ]
     },
     "execution_count": 112,
     "metadata": {},
     "output_type": "execute_result"
    }
   ],
   "source": [
    "v[0, 0].assign(3.)"
   ]
  },
  {
   "cell_type": "code",
   "execution_count": 113,
   "id": "least-assistant",
   "metadata": {
    "ExecuteTime": {
     "end_time": "2021-08-30T02:24:40.313241Z",
     "start_time": "2021-08-30T02:24:40.266196Z"
    }
   },
   "outputs": [
    {
     "data": {
      "text/plain": [
       "<tf.Variable 'UnreadVariable' shape=(3, 1) dtype=float32, numpy=\n",
       "array([[4.],\n",
       "       [2.],\n",
       "       [2.]], dtype=float32)>"
      ]
     },
     "execution_count": 113,
     "metadata": {},
     "output_type": "execute_result"
    }
   ],
   "source": [
    "v.assign_add(tf.ones((3, 1)))"
   ]
  },
  {
   "cell_type": "code",
   "execution_count": 114,
   "id": "conditional-fireplace",
   "metadata": {
    "ExecuteTime": {
     "end_time": "2021-08-30T02:25:24.467438Z",
     "start_time": "2021-08-30T02:25:24.421973Z"
    }
   },
   "outputs": [],
   "source": [
    "a = tf.ones((2, 2))\n",
    "b = tf.square(a)\n",
    "c = tf.sqrt(a)\n",
    "d = b + c\n",
    "e = tf.matmul(a, b)\n",
    "e *= d"
   ]
  },
  {
   "cell_type": "markdown",
   "id": "applied-welcome",
   "metadata": {},
   "source": [
    "## Unit 4 딥러닝 개발 환경 - Keras"
   ]
  },
  {
   "cell_type": "code",
   "execution_count": 10,
   "id": "competitive-surrey",
   "metadata": {
    "ExecuteTime": {
     "end_time": "2021-08-29T22:57:37.290289Z",
     "start_time": "2021-08-29T22:57:37.250901Z"
    }
   },
   "outputs": [],
   "source": [
    "import tensorflow as tf\n",
    "from tensorflow.keras.layers import Layer\n",
    "\n",
    "class SimpleDense(Layer):\n",
    "    \n",
    "    def __init__(self, units, activation=None):\n",
    "        super().__init__()\n",
    "        self.units = units\n",
    "        self.activation = activation\n",
    "        \n",
    "    def build(self, input_shape):\n",
    "        input_dim = input_shape[-1]\n",
    "        self.W = self.add_weight(shape=(input_dim, self.units), \n",
    "                                 initializer='random_normal')\n",
    "        self.b = self.add_weight(shape=(self.units,), \n",
    "                                 initializer='zeros')\n",
    "        \n",
    "    def call(self, inputs):\n",
    "        y = tf.matmul(inputs, self.W) + self.b\n",
    "        if self.activation is not None:\n",
    "            y = self.activation(y)\n",
    "        return y"
   ]
  },
  {
   "cell_type": "code",
   "execution_count": 12,
   "id": "disabled-canada",
   "metadata": {
    "ExecuteTime": {
     "end_time": "2021-08-29T23:01:23.318492Z",
     "start_time": "2021-08-29T23:01:23.178006Z"
    }
   },
   "outputs": [
    {
     "name": "stdout",
     "output_type": "stream",
     "text": [
      "Model: \"sequential_3\"\n",
      "_________________________________________________________________\n",
      "Layer (type)                 Output Shape              Param #   \n",
      "=================================================================\n",
      "simple_dense (SimpleDense)   (None, 64)                4160      \n",
      "_________________________________________________________________\n",
      "simple_dense_1 (SimpleDense) (None, 1)                 65        \n",
      "=================================================================\n",
      "Total params: 4,225\n",
      "Trainable params: 4,225\n",
      "Non-trainable params: 0\n",
      "_________________________________________________________________\n"
     ]
    }
   ],
   "source": [
    "from tensorflow.keras import Sequential\n",
    "from tensorflow.keras.layers import Dense\n",
    "from tensorflow.keras.activations import relu, softmax\n",
    "\n",
    "\n",
    "model = Sequential([\n",
    "    InputLayer(input_shape=(64,)),\n",
    "    SimpleDense(64, activation=relu),\n",
    "    SimpleDense(1, activation=softmax)\n",
    "])\n",
    "model.compile(loss='categorical_crossentropy', \n",
    "              optimizer='adam')\n",
    "model.summary()"
   ]
  },
  {
   "cell_type": "markdown",
   "id": "directed-bikini",
   "metadata": {},
   "source": [
    "## Unit 5 신경망 모델"
   ]
  },
  {
   "cell_type": "code",
   "execution_count": 2,
   "id": "french-childhood",
   "metadata": {
    "ExecuteTime": {
     "end_time": "2021-08-25T16:34:59.872288Z",
     "start_time": "2021-08-25T16:34:57.587522Z"
    }
   },
   "outputs": [],
   "source": [
    "from tensorflow.keras import Sequential \n",
    "from tensorflow.keras.layers import Dense, InputLayer\n",
    "from tensorflow.keras.utils import plot_model"
   ]
  },
  {
   "cell_type": "code",
   "execution_count": 3,
   "id": "obvious-possibility",
   "metadata": {
    "ExecuteTime": {
     "end_time": "2021-08-25T16:34:59.926149Z",
     "start_time": "2021-08-25T16:34:59.874556Z"
    }
   },
   "outputs": [
    {
     "name": "stdout",
     "output_type": "stream",
     "text": [
      "Model: \"sequential\"\n",
      "_________________________________________________________________\n",
      "Layer (type)                 Output Shape              Param #   \n",
      "=================================================================\n",
      "dense (Dense)                (None, 1)                 4         \n",
      "=================================================================\n",
      "Total params: 4\n",
      "Trainable params: 4\n",
      "Non-trainable params: 0\n",
      "_________________________________________________________________\n"
     ]
    }
   ],
   "source": [
    "model = Sequential([\n",
    "    InputLayer(input_shape=(2,)), \n",
    "    Dense(1, activation='relu')\n",
    "])\n",
    "model.compile(loss='mean_squared_error', optimizer='adam')\n",
    "model.summary()"
   ]
  },
  {
   "cell_type": "code",
   "execution_count": 4,
   "id": "changing-companion",
   "metadata": {
    "ExecuteTime": {
     "end_time": "2021-08-25T16:35:00.479096Z",
     "start_time": "2021-08-25T16:34:59.928312Z"
    }
   },
   "outputs": [
    {
     "data": {
      "image/png": "[encoded data removed]",
      "text/plain": [
       "<IPython.core.display.Image object>"
      ]
     },
     "execution_count": 4,
     "metadata": {},
     "output_type": "execute_result"
    }
   ],
   "source": [
    "plot_model(model)"
   ]
  },
  {
   "cell_type": "code",
   "execution_count": 5,
   "id": "average-arnold",
   "metadata": {
    "ExecuteTime": {
     "end_time": "2021-08-25T16:35:00.536402Z",
     "start_time": "2021-08-25T16:35:00.481773Z"
    }
   },
   "outputs": [
    {
     "name": "stdout",
     "output_type": "stream",
     "text": [
      "Model: \"sequential_1\"\n",
      "_________________________________________________________________\n",
      "Layer (type)                 Output Shape              Param #   \n",
      "=================================================================\n",
      "dense_1 (Dense)              (None, 2)                 6         \n",
      "_________________________________________________________________\n",
      "dense_2 (Dense)              (None, 1)                 3         \n",
      "=================================================================\n",
      "Total params: 9\n",
      "Trainable params: 9\n",
      "Non-trainable params: 0\n",
      "_________________________________________________________________\n"
     ]
    }
   ],
   "source": [
    "model = Sequential([\n",
    "    InputLayer(input_shape=(2,)), \n",
    "    Dense(2, activation='relu'),\n",
    "    Dense(1)\n",
    "])\n",
    "model.compile(loss='mean_squared_error', optimizer='adam')\n",
    "model.summary()"
   ]
  },
  {
   "cell_type": "code",
   "execution_count": 6,
   "id": "matched-option",
   "metadata": {
    "ExecuteTime": {
     "end_time": "2021-08-25T16:35:00.819459Z",
     "start_time": "2021-08-25T16:35:00.537846Z"
    }
   },
   "outputs": [
    {
     "data": {
      "image/png": "[encoded data removed]",
      "text/plain": [
       "<IPython.core.display.Image object>"
      ]
     },
     "execution_count": 6,
     "metadata": {},
     "output_type": "execute_result"
    }
   ],
   "source": [
    "plot_model(model)"
   ]
  },
  {
   "cell_type": "code",
   "execution_count": 7,
   "id": "proved-child",
   "metadata": {
    "ExecuteTime": {
     "end_time": "2021-08-25T16:35:00.886897Z",
     "start_time": "2021-08-25T16:35:00.821124Z"
    }
   },
   "outputs": [
    {
     "name": "stdout",
     "output_type": "stream",
     "text": [
      "Model: \"sequential_2\"\n",
      "_________________________________________________________________\n",
      "Layer (type)                 Output Shape              Param #   \n",
      "=================================================================\n",
      "dense_3 (Dense)              (None, 2)                 6         \n",
      "_________________________________________________________________\n",
      "dropout (Dropout)            (None, 2)                 0         \n",
      "_________________________________________________________________\n",
      "dense_4 (Dense)              (None, 2)                 6         \n",
      "_________________________________________________________________\n",
      "dense_5 (Dense)              (None, 1)                 3         \n",
      "=================================================================\n",
      "Total params: 15\n",
      "Trainable params: 15\n",
      "Non-trainable params: 0\n",
      "_________________________________________________________________\n"
     ]
    }
   ],
   "source": [
    "from tensorflow.keras.layers import Dropout\n",
    "\n",
    "model = Sequential([\n",
    "    InputLayer(input_shape=(2,)), \n",
    "    Dense(2, activation='relu'),\n",
    "    Dropout(.5),\n",
    "    Dense(2, activation='relu'),\n",
    "    Dense(1)\n",
    "])\n",
    "model.compile(loss='mean_squared_error', optimizer='adam')\n",
    "model.summary()"
   ]
  },
  {
   "cell_type": "code",
   "execution_count": 8,
   "id": "fluid-favorite",
   "metadata": {
    "ExecuteTime": {
     "end_time": "2021-08-25T16:35:01.177044Z",
     "start_time": "2021-08-25T16:35:00.889920Z"
    }
   },
   "outputs": [
    {
     "data": {
      "image/png": "[encoded data removed]",
      "text/plain": [
       "<IPython.core.display.Image object>"
      ]
     },
     "execution_count": 8,
     "metadata": {},
     "output_type": "execute_result"
    }
   ],
   "source": [
    "plot_model(model)"
   ]
  },
  {
   "cell_type": "code",
   "execution_count": 93,
   "id": "exciting-vulnerability",
   "metadata": {
    "ExecuteTime": {
     "end_time": "2021-08-30T01:06:40.153737Z",
     "start_time": "2021-08-30T01:06:40.108797Z"
    }
   },
   "outputs": [],
   "source": [
    "from matplotlib import pyplot as plt\n",
    "import pandas as pd\n",
    "from tensorflow.keras import Sequential\n",
    "from tensorflow.keras.datasets import mnist\n",
    "from tensorflow.keras.layers import Dense"
   ]
  },
  {
   "cell_type": "code",
   "execution_count": 94,
   "id": "stable-swedish",
   "metadata": {
    "ExecuteTime": {
     "end_time": "2021-08-30T01:06:41.092168Z",
     "start_time": "2021-08-30T01:06:40.850106Z"
    }
   },
   "outputs": [
    {
     "name": "stdout",
     "output_type": "stream",
     "text": [
      "(60000, 28, 28) (60000,) (10000, 28, 28) [7 2 1 ... 4 5 6]\n"
     ]
    }
   ],
   "source": [
    "(train_images, train_labels), (test_images, test_labels) = mnist.load_data()\n",
    "print(train_images.shape, train_labels.shape, test_images.shape, test_labels)"
   ]
  },
  {
   "cell_type": "code",
   "execution_count": 95,
   "id": "german-holder",
   "metadata": {
    "ExecuteTime": {
     "end_time": "2021-08-30T01:06:41.321402Z",
     "start_time": "2021-08-30T01:06:41.277466Z"
    }
   },
   "outputs": [
    {
     "data": {
      "text/plain": [
       "array([5, 0, 4, ..., 5, 6, 8], dtype=uint8)"
      ]
     },
     "execution_count": 95,
     "metadata": {},
     "output_type": "execute_result"
    }
   ],
   "source": [
    "train_labels"
   ]
  },
  {
   "cell_type": "code",
   "execution_count": 96,
   "id": "revolutionary-enhancement",
   "metadata": {
    "ExecuteTime": {
     "end_time": "2021-08-30T01:06:41.806381Z",
     "start_time": "2021-08-30T01:06:41.763025Z"
    }
   },
   "outputs": [
    {
     "data": {
      "text/plain": [
       "array([7, 2, 1, ..., 4, 5, 6], dtype=uint8)"
      ]
     },
     "execution_count": 96,
     "metadata": {},
     "output_type": "execute_result"
    }
   ],
   "source": [
    "test_labels"
   ]
  },
  {
   "cell_type": "code",
   "execution_count": 97,
   "id": "specified-gathering",
   "metadata": {
    "ExecuteTime": {
     "end_time": "2021-08-30T01:06:42.310985Z",
     "start_time": "2021-08-30T01:06:42.176124Z"
    }
   },
   "outputs": [
    {
     "data": {
      "text/plain": [
       "<matplotlib.image.AxesImage at 0x7f95b202f640>"
      ]
     },
     "execution_count": 97,
     "metadata": {},
     "output_type": "execute_result"
    },
    {
     "data": {
      "image/png": "[encoded data removed]",
      "text/plain": [
       "<Figure size 432x288 with 1 Axes>"
      ]
     },
     "metadata": {},
     "output_type": "display_data"
    }
   ],
   "source": [
    "plt.imshow(test_images[0])"
   ]
  },
  {
   "cell_type": "code",
   "execution_count": 98,
   "id": "assigned-jacob",
   "metadata": {
    "ExecuteTime": {
     "end_time": "2021-08-30T01:06:49.303791Z",
     "start_time": "2021-08-30T01:06:49.218677Z"
    }
   },
   "outputs": [
    {
     "name": "stdout",
     "output_type": "stream",
     "text": [
      "(60000, 784) (60000,) (10000, 784) (10000,)\n"
     ]
    }
   ],
   "source": [
    "X = train_images.reshape((60000, 28 * 28)).astype(\"float32\") / 255 \n",
    "X_tst = test_images.reshape((10000, 28 * 28)).astype(\"float32\") / 255\n",
    "print(X.shape, train_labels.shape, X_tst.shape, test_labels.shape)"
   ]
  },
  {
   "cell_type": "code",
   "execution_count": 99,
   "id": "cooperative-northern",
   "metadata": {
    "ExecuteTime": {
     "end_time": "2021-08-30T01:06:50.697079Z",
     "start_time": "2021-08-30T01:06:50.646822Z"
    }
   },
   "outputs": [],
   "source": [
    "model = Sequential([\n",
    "    Dense(512, activation='relu'),\n",
    "    Dense(10, activation='softmax')\n",
    "])\n",
    "\n",
    "model.compile(optimizer='rmsprop',\n",
    "              loss='sparse_categorical_crossentropy',\n",
    "              metrics=['accuracy'])"
   ]
  },
  {
   "cell_type": "code",
   "execution_count": 100,
   "id": "applied-values",
   "metadata": {
    "ExecuteTime": {
     "end_time": "2021-08-30T01:06:56.165861Z",
     "start_time": "2021-08-30T01:06:52.067415Z"
    }
   },
   "outputs": [
    {
     "name": "stdout",
     "output_type": "stream",
     "text": [
      "Epoch 1/3\n",
      "469/469 [==============================] - 1s 3ms/step - loss: 0.2560 - accuracy: 0.9259\n",
      "Epoch 2/3\n",
      "469/469 [==============================] - 1s 3ms/step - loss: 0.1048 - accuracy: 0.9688\n",
      "Epoch 3/3\n",
      "469/469 [==============================] - 1s 3ms/step - loss: 0.0690 - accuracy: 0.9794\n",
      "Model: \"sequential_14\"\n",
      "_________________________________________________________________\n",
      "Layer (type)                 Output Shape              Param #   \n",
      "=================================================================\n",
      "dense_26 (Dense)             (None, 512)               401920    \n",
      "_________________________________________________________________\n",
      "dense_27 (Dense)             (None, 10)                5130      \n",
      "=================================================================\n",
      "Total params: 407,050\n",
      "Trainable params: 407,050\n",
      "Non-trainable params: 0\n",
      "_________________________________________________________________\n"
     ]
    }
   ],
   "source": [
    "model.fit(X, train_labels, epochs=3, batch_size=128)\n",
    "model.summary()"
   ]
  },
  {
   "cell_type": "code",
   "execution_count": 101,
   "id": "fluid-spain",
   "metadata": {
    "ExecuteTime": {
     "end_time": "2021-08-30T01:06:56.394597Z",
     "start_time": "2021-08-30T01:06:56.168067Z"
    }
   },
   "outputs": [
    {
     "name": "stdout",
     "output_type": "stream",
     "text": [
      "[1.2307868e-08 5.3361421e-10 4.1219532e-06 8.7345055e-05 6.2382571e-11\n",
      " 1.6594444e-06 3.5706971e-12 9.9990547e-01 7.9382784e-07 4.7194584e-07]\n"
     ]
    }
   ],
   "source": [
    "p = model.predict(X_tst)\n",
    "print(p[0])"
   ]
  },
  {
   "cell_type": "code",
   "execution_count": 103,
   "id": "central-month",
   "metadata": {
    "ExecuteTime": {
     "end_time": "2021-08-30T01:06:58.691952Z",
     "start_time": "2021-08-30T01:06:58.518588Z"
    }
   },
   "outputs": [
    {
     "data": {
      "text/plain": [
       "Text(0, 0.5, 'Probability Score')"
      ]
     },
     "execution_count": 103,
     "metadata": {},
     "output_type": "execute_result"
    },
    {
     "data": {
      "image/png": "[encoded data removed]",
      "text/plain": [
       "<Figure size 432x288 with 1 Axes>"
      ]
     },
     "metadata": {},
     "output_type": "display_data"
    }
   ],
   "source": [
    "ax = pd.Series(p[0]).plot.bar()\n",
    "ax.set_xlabel('Digits')\n",
    "ax.set_ylabel('Probability Score')"
   ]
  },
  {
   "cell_type": "code",
   "execution_count": 102,
   "id": "turkish-austria",
   "metadata": {
    "ExecuteTime": {
     "end_time": "2021-08-30T01:06:56.726547Z",
     "start_time": "2021-08-30T01:06:56.396448Z"
    }
   },
   "outputs": [
    {
     "name": "stdout",
     "output_type": "stream",
     "text": [
      "313/313 [==============================] - 0s 651us/step - loss: 0.0754 - accuracy: 0.9762\n",
      "test_acc: 0.9762\n"
     ]
    }
   ],
   "source": [
    "test_loss, test_acc = model.evaluate(X_tst, test_labels)\n",
    "print(f\"test_acc: {test_acc:.4f}\")"
   ]
  },
  {
   "cell_type": "markdown",
   "id": "known-sustainability",
   "metadata": {
    "ExecuteTime": {
     "end_time": "2021-08-29T23:54:43.125936Z",
     "start_time": "2021-08-29T23:54:43.081373Z"
    }
   },
   "source": [
    "## Unit 7 역전파 학습"
   ]
  },
  {
   "cell_type": "code",
   "execution_count": 25,
   "id": "level-reform",
   "metadata": {
    "ExecuteTime": {
     "end_time": "2021-08-30T00:28:24.250209Z",
     "start_time": "2021-08-30T00:28:24.192807Z"
    }
   },
   "outputs": [],
   "source": [
    "import tensorflow as tf\n",
    "\n",
    "x = tf.Variable(0.)\n",
    "with tf.GradientTape() as tape:\n",
    "    y = 2 * x + 3\n",
    "    \n",
    "grad_of_y_wrt_x = tape.gradient(y, x)"
   ]
  },
  {
   "cell_type": "code",
   "execution_count": 104,
   "id": "satisfactory-extension",
   "metadata": {
    "ExecuteTime": {
     "end_time": "2021-08-30T02:04:15.349999Z",
     "start_time": "2021-08-30T02:04:15.296398Z"
    }
   },
   "outputs": [
    {
     "data": {
      "text/plain": [
       "2.0"
      ]
     },
     "execution_count": 104,
     "metadata": {},
     "output_type": "execute_result"
    }
   ],
   "source": [
    "grad_of_y_wrt_x.numpy()"
   ]
  },
  {
   "cell_type": "code",
   "execution_count": null,
   "id": "encouraging-appeal",
   "metadata": {},
   "outputs": [],
   "source": [
    "def one_training_step(model, images_batch, labels_batch):\n",
    "    with tf.GradientTape() as tape:\n",
    "        predictions = model(images_batch)\n",
    "        per_sample_losses = tf.keras.loass.sparse_categorical_crossentropy(\n",
    "            labels_batch, predictions)\n",
    "        average_loss = tf.reduce_mean(per_sample_losses)\n",
    "    gradients = tape.gradient(average_loss, model.weights)\n",
    "    update_weights(gradients, model.weights)\n",
    "    return average_loss"
   ]
  },
  {
   "cell_type": "code",
   "execution_count": null,
   "id": "critical-telling",
   "metadata": {},
   "outputs": [],
   "source": [
    "def fit(model, images, labels, epochs, batch_size=128): \n",
    "    for epoch_counter in range(epochs):\n",
    "        print(f\"Epoch {epoch_counter}\")\n",
    "        batch_generator = BatchGenerator(images, labels)\n",
    "        for batch_counter in range(len(images) // batch_size):\n",
    "            images_batch, labels_batch = batch_generator.next()\n",
    "            loss = one_training_step(model, images_batch, labels_batch) \n",
    "            if batch_counter % 100 == 0:\n",
    "                print(f\"loss at batch {batch_counter}: {loss:.2f}\")"
   ]
  },
  {
   "cell_type": "markdown",
   "id": "passive-spring",
   "metadata": {},
   "source": [
    "## Unit 8 초기화 및 표준화"
   ]
  },
  {
   "cell_type": "code",
   "execution_count": 118,
   "id": "valued-cocktail",
   "metadata": {
    "ExecuteTime": {
     "end_time": "2021-08-30T08:20:30.296702Z",
     "start_time": "2021-08-30T08:20:30.236937Z"
    }
   },
   "outputs": [],
   "source": [
    "from tensorflow.keras.layers import (Activation, BatchNormalization, \n",
    "                                     Dense, Input)\n",
    "\n",
    "inputs = Input(shape=(128, ))\n",
    "x = Dense(64, use_bias=False)(inputs)\n",
    "x = BatchNormalization()(x)\n",
    "x = Activation('relu')(x)"
   ]
  },
  {
   "cell_type": "code",
   "execution_count": null,
   "id": "determined-laser",
   "metadata": {},
   "outputs": [],
   "source": []
  }
 ],
 "metadata": {
  "kernelspec": {
   "display_name": "kaggle",
   "language": "python",
   "name": "kaggle"
  },
  "language_info": {
   "codemirror_mode": {
    "name": "ipython",
    "version": 3
   },
   "file_extension": ".py",
   "mimetype": "text/x-python",
   "name": "python",
   "nbconvert_exporter": "python",
   "pygments_lexer": "ipython3",
   "version": "3.8.5"
  },
  "toc": {
   "base_numbering": 1,
   "nav_menu": {},
   "number_sections": true,
   "sideBar": true,
   "skip_h1_title": false,
   "title_cell": "Table of Contents",
   "title_sidebar": "Contents",
   "toc_cell": false,
   "toc_position": {},
   "toc_section_display": true,
   "toc_window_display": false
  }
 },
 "nbformat": 4,
 "nbformat_minor": 5
}
