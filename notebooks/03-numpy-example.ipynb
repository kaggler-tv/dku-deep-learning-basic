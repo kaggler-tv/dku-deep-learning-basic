{
 "cells": [
  {
   "cell_type": "markdown",
   "id": "pleasant-induction",
   "metadata": {},
   "source": [
    "# 넘파이 예시"
   ]
  },
  {
   "cell_type": "markdown",
   "id": "italian-miniature",
   "metadata": {},
   "source": [
    "## 객체 속성 및 인덱싱"
   ]
  },
  {
   "cell_type": "code",
   "execution_count": 1,
   "id": "strategic-founder",
   "metadata": {
    "ExecuteTime": {
     "end_time": "2021-09-05T20:40:39.638961Z",
     "start_time": "2021-09-05T20:40:39.568387Z"
    }
   },
   "outputs": [],
   "source": [
    "import numpy as np"
   ]
  },
  {
   "cell_type": "code",
   "execution_count": 2,
   "id": "swiss-toronto",
   "metadata": {
    "ExecuteTime": {
     "end_time": "2021-09-05T20:40:39.643005Z",
     "start_time": "2021-09-05T20:40:39.640821Z"
    }
   },
   "outputs": [],
   "source": [
    "a = np.arange(15).reshape(3, 5)"
   ]
  },
  {
   "cell_type": "code",
   "execution_count": 3,
   "id": "unlimited-coaching",
   "metadata": {
    "ExecuteTime": {
     "end_time": "2021-09-05T20:40:39.653054Z",
     "start_time": "2021-09-05T20:40:39.645762Z"
    }
   },
   "outputs": [
    {
     "data": {
      "text/plain": [
       "array([[ 0,  1,  2,  3,  4],\n",
       "       [ 5,  6,  7,  8,  9],\n",
       "       [10, 11, 12, 13, 14]])"
      ]
     },
     "execution_count": 3,
     "metadata": {},
     "output_type": "execute_result"
    }
   ],
   "source": [
    "a"
   ]
  },
  {
   "cell_type": "code",
   "execution_count": 4,
   "id": "prepared-lightweight",
   "metadata": {
    "ExecuteTime": {
     "end_time": "2021-09-05T20:40:45.208218Z",
     "start_time": "2021-09-05T20:40:45.204936Z"
    }
   },
   "outputs": [
    {
     "data": {
      "text/plain": [
       "(3, 5)"
      ]
     },
     "execution_count": 4,
     "metadata": {},
     "output_type": "execute_result"
    }
   ],
   "source": [
    "a.shape"
   ]
  },
  {
   "cell_type": "code",
   "execution_count": 5,
   "id": "secret-degree",
   "metadata": {
    "ExecuteTime": {
     "end_time": "2021-09-05T20:40:48.375989Z",
     "start_time": "2021-09-05T20:40:48.372570Z"
    }
   },
   "outputs": [
    {
     "data": {
      "text/plain": [
       "2"
      ]
     },
     "execution_count": 5,
     "metadata": {},
     "output_type": "execute_result"
    }
   ],
   "source": [
    "a.ndim"
   ]
  },
  {
   "cell_type": "code",
   "execution_count": 6,
   "id": "medium-defendant",
   "metadata": {
    "ExecuteTime": {
     "end_time": "2021-09-05T20:40:50.512977Z",
     "start_time": "2021-09-05T20:40:50.509810Z"
    }
   },
   "outputs": [
    {
     "data": {
      "text/plain": [
       "dtype('int64')"
      ]
     },
     "execution_count": 6,
     "metadata": {},
     "output_type": "execute_result"
    }
   ],
   "source": [
    "a.dtype"
   ]
  },
  {
   "cell_type": "code",
   "execution_count": 7,
   "id": "nuclear-termination",
   "metadata": {
    "ExecuteTime": {
     "end_time": "2021-09-05T20:40:52.398529Z",
     "start_time": "2021-09-05T20:40:52.395429Z"
    }
   },
   "outputs": [
    {
     "data": {
      "text/plain": [
       "8"
      ]
     },
     "execution_count": 7,
     "metadata": {},
     "output_type": "execute_result"
    }
   ],
   "source": [
    "a.itemsize"
   ]
  },
  {
   "cell_type": "code",
   "execution_count": 8,
   "id": "sunset-stamp",
   "metadata": {
    "ExecuteTime": {
     "end_time": "2021-09-05T20:40:53.580128Z",
     "start_time": "2021-09-05T20:40:53.576939Z"
    }
   },
   "outputs": [
    {
     "data": {
      "text/plain": [
       "15"
      ]
     },
     "execution_count": 8,
     "metadata": {},
     "output_type": "execute_result"
    }
   ],
   "source": [
    "a.size"
   ]
  },
  {
   "cell_type": "code",
   "execution_count": 9,
   "id": "ecological-collectible",
   "metadata": {
    "ExecuteTime": {
     "end_time": "2021-09-05T20:40:55.368213Z",
     "start_time": "2021-09-05T20:40:55.364913Z"
    }
   },
   "outputs": [
    {
     "data": {
      "text/plain": [
       "numpy.ndarray"
      ]
     },
     "execution_count": 9,
     "metadata": {},
     "output_type": "execute_result"
    }
   ],
   "source": [
    "type(a)"
   ]
  },
  {
   "cell_type": "code",
   "execution_count": 10,
   "id": "palestinian-design",
   "metadata": {
    "ExecuteTime": {
     "end_time": "2021-09-05T20:41:00.315745Z",
     "start_time": "2021-09-05T20:41:00.313277Z"
    }
   },
   "outputs": [],
   "source": [
    "b = a.astype(float)"
   ]
  },
  {
   "cell_type": "code",
   "execution_count": 11,
   "id": "worst-diesel",
   "metadata": {
    "ExecuteTime": {
     "end_time": "2021-09-05T20:41:01.924415Z",
     "start_time": "2021-09-05T20:41:01.921340Z"
    }
   },
   "outputs": [
    {
     "data": {
      "text/plain": [
       "dtype('float64')"
      ]
     },
     "execution_count": 11,
     "metadata": {},
     "output_type": "execute_result"
    }
   ],
   "source": [
    "b.dtype"
   ]
  },
  {
   "cell_type": "code",
   "execution_count": 12,
   "id": "unlimited-pharmacy",
   "metadata": {
    "ExecuteTime": {
     "end_time": "2021-09-05T20:41:03.045140Z",
     "start_time": "2021-09-05T20:41:03.041350Z"
    }
   },
   "outputs": [
    {
     "data": {
      "text/plain": [
       "array([[ 0.,  1.,  2.,  3.,  4.],\n",
       "       [ 5.,  6.,  7.,  8.,  9.],\n",
       "       [10., 11., 12., 13., 14.]])"
      ]
     },
     "execution_count": 12,
     "metadata": {},
     "output_type": "execute_result"
    }
   ],
   "source": [
    "b"
   ]
  },
  {
   "cell_type": "code",
   "execution_count": 13,
   "id": "prime-processor",
   "metadata": {
    "ExecuteTime": {
     "end_time": "2021-09-05T20:41:08.453322Z",
     "start_time": "2021-09-05T20:41:08.449690Z"
    }
   },
   "outputs": [
    {
     "data": {
      "text/plain": [
       "array([[ 0,  1,  2,  3,  4],\n",
       "       [ 5,  6,  7,  8,  9],\n",
       "       [10, 11, 12, 13, 14]])"
      ]
     },
     "execution_count": 13,
     "metadata": {},
     "output_type": "execute_result"
    }
   ],
   "source": [
    "a"
   ]
  },
  {
   "cell_type": "code",
   "execution_count": 14,
   "id": "median-metropolitan",
   "metadata": {
    "ExecuteTime": {
     "end_time": "2021-09-05T20:41:14.460738Z",
     "start_time": "2021-09-05T20:41:14.457093Z"
    }
   },
   "outputs": [
    {
     "data": {
      "text/plain": [
       "13"
      ]
     },
     "execution_count": 14,
     "metadata": {},
     "output_type": "execute_result"
    }
   ],
   "source": [
    "a[2, 3]"
   ]
  },
  {
   "cell_type": "code",
   "execution_count": 15,
   "id": "addressed-examination",
   "metadata": {
    "ExecuteTime": {
     "end_time": "2021-09-05T20:41:18.140063Z",
     "start_time": "2021-09-05T20:41:18.136456Z"
    }
   },
   "outputs": [
    {
     "data": {
      "text/plain": [
       "array([5, 6, 7, 8, 9])"
      ]
     },
     "execution_count": 15,
     "metadata": {},
     "output_type": "execute_result"
    }
   ],
   "source": [
    "a[1, 0:5]"
   ]
  },
  {
   "cell_type": "code",
   "execution_count": 16,
   "id": "pointed-cowboy",
   "metadata": {
    "ExecuteTime": {
     "end_time": "2021-09-05T20:41:21.396845Z",
     "start_time": "2021-09-05T20:41:21.393286Z"
    }
   },
   "outputs": [
    {
     "data": {
      "text/plain": [
       "array([ 1,  6, 11])"
      ]
     },
     "execution_count": 16,
     "metadata": {},
     "output_type": "execute_result"
    }
   ],
   "source": [
    "a[:, 1]"
   ]
  },
  {
   "cell_type": "code",
   "execution_count": 17,
   "id": "instrumental-relief",
   "metadata": {
    "ExecuteTime": {
     "end_time": "2021-09-05T20:41:24.845495Z",
     "start_time": "2021-09-05T20:41:24.841606Z"
    }
   },
   "outputs": [
    {
     "data": {
      "text/plain": [
       "array([[ 5,  6,  7,  8,  9],\n",
       "       [10, 11, 12, 13, 14]])"
      ]
     },
     "execution_count": 17,
     "metadata": {},
     "output_type": "execute_result"
    }
   ],
   "source": [
    "a[1:3, :]"
   ]
  },
  {
   "cell_type": "code",
   "execution_count": 18,
   "id": "continental-gossip",
   "metadata": {
    "ExecuteTime": {
     "end_time": "2021-09-05T20:41:29.151573Z",
     "start_time": "2021-09-05T20:41:29.148009Z"
    }
   },
   "outputs": [
    {
     "data": {
      "text/plain": [
       "array([ 5,  6,  7,  8,  9, 10, 11, 12, 13, 14])"
      ]
     },
     "execution_count": 18,
     "metadata": {},
     "output_type": "execute_result"
    }
   ],
   "source": [
    "a[a > 4]"
   ]
  },
  {
   "cell_type": "code",
   "execution_count": 19,
   "id": "quick-gateway",
   "metadata": {
    "ExecuteTime": {
     "end_time": "2021-09-05T20:41:36.928097Z",
     "start_time": "2021-09-05T20:41:36.925615Z"
    }
   },
   "outputs": [],
   "source": [
    "a = np.array([20, 30, 40, 50])"
   ]
  },
  {
   "cell_type": "code",
   "execution_count": 20,
   "id": "accepted-viewer",
   "metadata": {
    "ExecuteTime": {
     "end_time": "2021-09-05T20:41:41.160629Z",
     "start_time": "2021-09-05T20:41:41.158216Z"
    }
   },
   "outputs": [],
   "source": [
    "b = np.arange(4)"
   ]
  },
  {
   "cell_type": "code",
   "execution_count": 21,
   "id": "friendly-retrieval",
   "metadata": {
    "ExecuteTime": {
     "end_time": "2021-09-05T20:41:44.194101Z",
     "start_time": "2021-09-05T20:41:44.190713Z"
    }
   },
   "outputs": [
    {
     "data": {
      "text/plain": [
       "array([0, 1, 2, 3])"
      ]
     },
     "execution_count": 21,
     "metadata": {},
     "output_type": "execute_result"
    }
   ],
   "source": [
    "b"
   ]
  },
  {
   "cell_type": "code",
   "execution_count": 22,
   "id": "extreme-mouth",
   "metadata": {
    "ExecuteTime": {
     "end_time": "2021-09-05T20:41:46.427971Z",
     "start_time": "2021-09-05T20:41:46.425763Z"
    }
   },
   "outputs": [],
   "source": [
    "c = a - b"
   ]
  },
  {
   "cell_type": "code",
   "execution_count": 23,
   "id": "boolean-encoding",
   "metadata": {
    "ExecuteTime": {
     "end_time": "2021-09-05T20:41:47.480892Z",
     "start_time": "2021-09-05T20:41:47.477599Z"
    }
   },
   "outputs": [
    {
     "data": {
      "text/plain": [
       "array([20, 29, 38, 47])"
      ]
     },
     "execution_count": 23,
     "metadata": {},
     "output_type": "execute_result"
    }
   ],
   "source": [
    "c"
   ]
  },
  {
   "cell_type": "code",
   "execution_count": 24,
   "id": "advanced-precipitation",
   "metadata": {
    "ExecuteTime": {
     "end_time": "2021-09-05T20:41:49.337881Z",
     "start_time": "2021-09-05T20:41:49.334113Z"
    }
   },
   "outputs": [
    {
     "data": {
      "text/plain": [
       "array([0, 1, 4, 9])"
      ]
     },
     "execution_count": 24,
     "metadata": {},
     "output_type": "execute_result"
    }
   ],
   "source": [
    "b ** 2"
   ]
  },
  {
   "cell_type": "code",
   "execution_count": 25,
   "id": "floppy-extent",
   "metadata": {
    "ExecuteTime": {
     "end_time": "2021-09-05T20:41:54.201522Z",
     "start_time": "2021-09-05T20:41:54.197983Z"
    }
   },
   "outputs": [
    {
     "data": {
      "text/plain": [
       "array([ 9.12945251, -9.88031624,  7.4511316 , -2.62374854])"
      ]
     },
     "execution_count": 25,
     "metadata": {},
     "output_type": "execute_result"
    }
   ],
   "source": [
    "10 * np.sin(a)"
   ]
  },
  {
   "cell_type": "code",
   "execution_count": 26,
   "id": "dated-perfume",
   "metadata": {
    "ExecuteTime": {
     "end_time": "2021-09-05T20:41:57.122120Z",
     "start_time": "2021-09-05T20:41:57.118329Z"
    }
   },
   "outputs": [
    {
     "data": {
      "text/plain": [
       "array([ True,  True, False, False])"
      ]
     },
     "execution_count": 26,
     "metadata": {},
     "output_type": "execute_result"
    }
   ],
   "source": [
    "a < 35"
   ]
  },
  {
   "cell_type": "code",
   "execution_count": 27,
   "id": "varied-express",
   "metadata": {
    "ExecuteTime": {
     "end_time": "2021-09-05T20:42:12.933427Z",
     "start_time": "2021-09-05T20:42:12.930888Z"
    }
   },
   "outputs": [],
   "source": [
    "A = np.array([[1, 1], [0, 1]])"
   ]
  },
  {
   "cell_type": "code",
   "execution_count": 28,
   "id": "level-april",
   "metadata": {
    "ExecuteTime": {
     "end_time": "2021-09-05T20:42:21.608853Z",
     "start_time": "2021-09-05T20:42:21.606269Z"
    }
   },
   "outputs": [],
   "source": [
    "B = np.array([[2, 0], [3, 4]])"
   ]
  },
  {
   "cell_type": "code",
   "execution_count": 29,
   "id": "twelve-oriental",
   "metadata": {
    "ExecuteTime": {
     "end_time": "2021-09-05T20:42:23.594844Z",
     "start_time": "2021-09-05T20:42:23.591296Z"
    }
   },
   "outputs": [
    {
     "data": {
      "text/plain": [
       "array([[2, 0],\n",
       "       [0, 4]])"
      ]
     },
     "execution_count": 29,
     "metadata": {},
     "output_type": "execute_result"
    }
   ],
   "source": [
    "A * B"
   ]
  },
  {
   "cell_type": "code",
   "execution_count": 30,
   "id": "varied-samba",
   "metadata": {
    "ExecuteTime": {
     "end_time": "2021-09-05T20:42:28.413280Z",
     "start_time": "2021-09-05T20:42:28.409967Z"
    }
   },
   "outputs": [
    {
     "data": {
      "text/plain": [
       "array([[5, 4],\n",
       "       [3, 4]])"
      ]
     },
     "execution_count": 30,
     "metadata": {},
     "output_type": "execute_result"
    }
   ],
   "source": [
    "A @ B"
   ]
  },
  {
   "cell_type": "code",
   "execution_count": 31,
   "id": "pressing-astronomy",
   "metadata": {
    "ExecuteTime": {
     "end_time": "2021-09-05T20:42:34.686403Z",
     "start_time": "2021-09-05T20:42:34.683031Z"
    }
   },
   "outputs": [
    {
     "data": {
      "text/plain": [
       "array([[5, 4],\n",
       "       [3, 4]])"
      ]
     },
     "execution_count": 31,
     "metadata": {},
     "output_type": "execute_result"
    }
   ],
   "source": [
    "A.dot(B)"
   ]
  },
  {
   "cell_type": "markdown",
   "id": "available-advertising",
   "metadata": {},
   "source": [
    "## 주요 함수"
   ]
  },
  {
   "cell_type": "code",
   "execution_count": 32,
   "id": "different-moral",
   "metadata": {
    "ExecuteTime": {
     "end_time": "2021-09-05T20:43:19.750868Z",
     "start_time": "2021-09-05T20:43:19.748418Z"
    }
   },
   "outputs": [],
   "source": [
    "np.set_printoptions(precision=4)"
   ]
  },
  {
   "cell_type": "code",
   "execution_count": 33,
   "id": "following-creation",
   "metadata": {
    "ExecuteTime": {
     "end_time": "2021-09-05T20:43:38.207571Z",
     "start_time": "2021-09-05T20:43:38.204305Z"
    }
   },
   "outputs": [
    {
     "data": {
      "text/plain": [
       "array([0, 1, 2, 3, 4, 5])"
      ]
     },
     "execution_count": 33,
     "metadata": {},
     "output_type": "execute_result"
    }
   ],
   "source": [
    "a = np.arange(6)\n",
    "a"
   ]
  },
  {
   "cell_type": "code",
   "execution_count": 35,
   "id": "academic-characteristic",
   "metadata": {
    "ExecuteTime": {
     "end_time": "2021-09-05T20:43:46.785957Z",
     "start_time": "2021-09-05T20:43:46.782547Z"
    }
   },
   "outputs": [
    {
     "data": {
      "text/plain": [
       "array([[0, 1, 2],\n",
       "       [3, 4, 5]])"
      ]
     },
     "execution_count": 35,
     "metadata": {},
     "output_type": "execute_result"
    }
   ],
   "source": [
    "a = a.reshape(2, 3)\n",
    "a"
   ]
  },
  {
   "cell_type": "code",
   "execution_count": 36,
   "id": "computational-pleasure",
   "metadata": {
    "ExecuteTime": {
     "end_time": "2021-09-05T20:43:55.605644Z",
     "start_time": "2021-09-05T20:43:55.601841Z"
    }
   },
   "outputs": [
    {
     "data": {
      "text/plain": [
       "(15, 0, 5)"
      ]
     },
     "execution_count": 36,
     "metadata": {},
     "output_type": "execute_result"
    }
   ],
   "source": [
    "a.sum(), a.min(), a.max()"
   ]
  },
  {
   "cell_type": "code",
   "execution_count": 37,
   "id": "personalized-italian",
   "metadata": {
    "ExecuteTime": {
     "end_time": "2021-09-05T20:44:02.147572Z",
     "start_time": "2021-09-05T20:44:02.144138Z"
    }
   },
   "outputs": [
    {
     "data": {
      "text/plain": [
       "array([3, 5, 7])"
      ]
     },
     "execution_count": 37,
     "metadata": {},
     "output_type": "execute_result"
    }
   ],
   "source": [
    "a.sum(axis=0)"
   ]
  },
  {
   "cell_type": "code",
   "execution_count": 38,
   "id": "turkish-perry",
   "metadata": {
    "ExecuteTime": {
     "end_time": "2021-09-05T20:44:05.885150Z",
     "start_time": "2021-09-05T20:44:05.880959Z"
    }
   },
   "outputs": [
    {
     "data": {
      "text/plain": [
       "array([ 3, 12])"
      ]
     },
     "execution_count": 38,
     "metadata": {},
     "output_type": "execute_result"
    }
   ],
   "source": [
    "a.sum(axis=1)"
   ]
  },
  {
   "cell_type": "code",
   "execution_count": 39,
   "id": "advance-mission",
   "metadata": {
    "ExecuteTime": {
     "end_time": "2021-09-05T20:44:23.925041Z",
     "start_time": "2021-09-05T20:44:23.921683Z"
    }
   },
   "outputs": [
    {
     "data": {
      "text/plain": [
       "array([[0, 1, 2],\n",
       "       [3, 5, 7]])"
      ]
     },
     "execution_count": 39,
     "metadata": {},
     "output_type": "execute_result"
    }
   ],
   "source": [
    "a.cumsum(axis=0)"
   ]
  },
  {
   "cell_type": "code",
   "execution_count": 40,
   "id": "recent-brick",
   "metadata": {
    "ExecuteTime": {
     "end_time": "2021-09-05T20:44:37.010862Z",
     "start_time": "2021-09-05T20:44:37.008569Z"
    }
   },
   "outputs": [],
   "source": [
    "np.random.seed(42)"
   ]
  },
  {
   "cell_type": "code",
   "execution_count": 41,
   "id": "appropriate-category",
   "metadata": {
    "ExecuteTime": {
     "end_time": "2021-09-05T20:44:41.632290Z",
     "start_time": "2021-09-05T20:44:41.629927Z"
    }
   },
   "outputs": [],
   "source": [
    "b = np.random.rand(2, 3)"
   ]
  },
  {
   "cell_type": "code",
   "execution_count": 42,
   "id": "funded-extension",
   "metadata": {
    "ExecuteTime": {
     "end_time": "2021-09-05T20:44:42.378065Z",
     "start_time": "2021-09-05T20:44:42.374283Z"
    }
   },
   "outputs": [
    {
     "data": {
      "text/plain": [
       "array([[0.3745, 0.9507, 0.732 ],\n",
       "       [0.5987, 0.156 , 0.156 ]])"
      ]
     },
     "execution_count": 42,
     "metadata": {},
     "output_type": "execute_result"
    }
   ],
   "source": [
    "b"
   ]
  },
  {
   "cell_type": "code",
   "execution_count": 43,
   "id": "turkish-welcome",
   "metadata": {
    "ExecuteTime": {
     "end_time": "2021-09-05T20:44:50.329909Z",
     "start_time": "2021-09-05T20:44:50.326343Z"
    }
   },
   "outputs": [
    {
     "data": {
      "text/plain": [
       "array([[0.    , 1.    , 2.    ],\n",
       "       [3.    , 4.    , 5.    ],\n",
       "       [0.3745, 0.9507, 0.732 ],\n",
       "       [0.5987, 0.156 , 0.156 ]])"
      ]
     },
     "execution_count": 43,
     "metadata": {},
     "output_type": "execute_result"
    }
   ],
   "source": [
    "np.concatenate([a, b])"
   ]
  },
  {
   "cell_type": "code",
   "execution_count": 44,
   "id": "powered-student",
   "metadata": {
    "ExecuteTime": {
     "end_time": "2021-09-05T20:45:00.520055Z",
     "start_time": "2021-09-05T20:45:00.516341Z"
    }
   },
   "outputs": [
    {
     "data": {
      "text/plain": [
       "array([[0.    , 1.    , 2.    , 0.3745, 0.9507, 0.732 ],\n",
       "       [3.    , 4.    , 5.    , 0.5987, 0.156 , 0.156 ]])"
      ]
     },
     "execution_count": 44,
     "metadata": {},
     "output_type": "execute_result"
    }
   ],
   "source": [
    "np.concatenate([a, b], axis=1)"
   ]
  },
  {
   "cell_type": "code",
   "execution_count": 45,
   "id": "southeast-destiny",
   "metadata": {
    "ExecuteTime": {
     "end_time": "2021-09-05T20:45:05.207656Z",
     "start_time": "2021-09-05T20:45:05.203975Z"
    }
   },
   "outputs": [
    {
     "data": {
      "text/plain": [
       "(2, 2, 3)"
      ]
     },
     "execution_count": 45,
     "metadata": {},
     "output_type": "execute_result"
    }
   ],
   "source": [
    "np.stack([a, b]).shape"
   ]
  },
  {
   "cell_type": "code",
   "execution_count": 46,
   "id": "colored-premiere",
   "metadata": {
    "ExecuteTime": {
     "end_time": "2021-09-05T20:45:22.916162Z",
     "start_time": "2021-09-05T20:45:22.912900Z"
    }
   },
   "outputs": [
    {
     "data": {
      "text/plain": [
       "(4, 3)"
      ]
     },
     "execution_count": 46,
     "metadata": {},
     "output_type": "execute_result"
    }
   ],
   "source": [
    "np.vstack([a, b]).shape"
   ]
  },
  {
   "cell_type": "code",
   "execution_count": 47,
   "id": "practical-consolidation",
   "metadata": {
    "ExecuteTime": {
     "end_time": "2021-09-05T20:45:32.790121Z",
     "start_time": "2021-09-05T20:45:32.786892Z"
    }
   },
   "outputs": [
    {
     "data": {
      "text/plain": [
       "(2, 6)"
      ]
     },
     "execution_count": 47,
     "metadata": {},
     "output_type": "execute_result"
    }
   ],
   "source": [
    "np.hstack([a, b]).shape"
   ]
  },
  {
   "cell_type": "code",
   "execution_count": 48,
   "id": "mental-mirror",
   "metadata": {
    "ExecuteTime": {
     "end_time": "2021-09-05T20:45:37.750839Z",
     "start_time": "2021-09-05T20:45:37.747240Z"
    }
   },
   "outputs": [
    {
     "data": {
      "text/plain": [
       "array([[ 1.    , -0.9266],\n",
       "       [-0.9266,  1.    ]])"
      ]
     },
     "execution_count": 48,
     "metadata": {},
     "output_type": "execute_result"
    }
   ],
   "source": [
    "np.corrcoef(b)"
   ]
  },
  {
   "cell_type": "code",
   "execution_count": 49,
   "id": "ranking-international",
   "metadata": {
    "ExecuteTime": {
     "end_time": "2021-09-05T20:45:41.739028Z",
     "start_time": "2021-09-05T20:45:41.735536Z"
    }
   },
   "outputs": [
    {
     "data": {
      "text/plain": [
       "array([[  1.    ,   2.7183,   7.3891],\n",
       "       [ 20.0855,  54.5982, 148.4132]])"
      ]
     },
     "execution_count": 49,
     "metadata": {},
     "output_type": "execute_result"
    }
   ],
   "source": [
    "np.exp(a)"
   ]
  },
  {
   "cell_type": "code",
   "execution_count": 50,
   "id": "democratic-thesis",
   "metadata": {
    "ExecuteTime": {
     "end_time": "2021-09-05T20:45:48.587188Z",
     "start_time": "2021-09-05T20:45:48.583341Z"
    }
   },
   "outputs": [
    {
     "data": {
      "text/plain": [
       "array([[0., 1., 2.],\n",
       "       [3., 4., 5.]])"
      ]
     },
     "execution_count": 50,
     "metadata": {},
     "output_type": "execute_result"
    }
   ],
   "source": [
    "np.log(np.exp(a))"
   ]
  },
  {
   "cell_type": "code",
   "execution_count": 51,
   "id": "finite-chrome",
   "metadata": {
    "ExecuteTime": {
     "end_time": "2021-09-05T20:46:00.186870Z",
     "start_time": "2021-09-05T20:46:00.183452Z"
    }
   },
   "outputs": [
    {
     "data": {
      "text/plain": [
       "array([[0.    , 1.    , 1.4142],\n",
       "       [1.7321, 2.    , 2.2361]])"
      ]
     },
     "execution_count": 51,
     "metadata": {},
     "output_type": "execute_result"
    }
   ],
   "source": [
    "np.sqrt(a)"
   ]
  },
  {
   "cell_type": "code",
   "execution_count": 52,
   "id": "celtic-shell",
   "metadata": {
    "ExecuteTime": {
     "end_time": "2021-09-05T20:46:05.680093Z",
     "start_time": "2021-09-05T20:46:05.676264Z"
    }
   },
   "outputs": [
    {
     "data": {
      "text/plain": [
       "array([[0., 1., 2.],\n",
       "       [3., 4., 5.]])"
      ]
     },
     "execution_count": 52,
     "metadata": {},
     "output_type": "execute_result"
    }
   ],
   "source": [
    "np.square(np.sqrt(a))"
   ]
  },
  {
   "cell_type": "code",
   "execution_count": null,
   "id": "shared-racing",
   "metadata": {},
   "outputs": [],
   "source": []
  }
 ],
 "metadata": {
  "kernelspec": {
   "display_name": "kaggle",
   "language": "python",
   "name": "kaggle"
  },
  "language_info": {
   "codemirror_mode": {
    "name": "ipython",
    "version": 3
   },
   "file_extension": ".py",
   "mimetype": "text/x-python",
   "name": "python",
   "nbconvert_exporter": "python",
   "pygments_lexer": "ipython3",
   "version": "3.8.5"
  },
  "toc": {
   "base_numbering": 1,
   "nav_menu": {},
   "number_sections": true,
   "sideBar": true,
   "skip_h1_title": true,
   "title_cell": "Table of Contents",
   "title_sidebar": "Contents",
   "toc_cell": false,
   "toc_position": {},
   "toc_section_display": true,
   "toc_window_display": false
  }
 },
 "nbformat": 4,
 "nbformat_minor": 5
}
