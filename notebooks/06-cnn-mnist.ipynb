{
 "cells": [
  {
   "cell_type": "markdown",
   "id": "historic-grove",
   "metadata": {},
   "source": [
    "# 케라스 MNIST 숫자 이미지 분류 CNN 모델 예제"
   ]
  },
  {
   "cell_type": "code",
   "execution_count": 1,
   "id": "embedded-tractor",
   "metadata": {
    "ExecuteTime": {
     "end_time": "2021-09-06T21:37:29.270237Z",
     "start_time": "2021-09-06T21:37:29.028716Z"
    }
   },
   "outputs": [],
   "source": [
    "%reload_ext autoreload\n",
    "%autoreload 2\n",
    "%matplotlib inline"
   ]
  },
  {
   "cell_type": "code",
   "execution_count": null,
   "id": "systematic-characteristic",
   "metadata": {},
   "outputs": [],
   "source": [
    "from matplotlib import pyplot as plt\n",
    "import numpy as np\n",
    "import pandas as pd\n",
    "from tensorflow.keras import Sequential\n",
    "from tensorflow.keras.datasets import mnist\n",
    "\n",
    "plt.style.use('fivethirtyeight')"
   ]
  },
  {
   "cell_type": "code",
   "execution_count": 2,
   "id": "exciting-vulnerability",
   "metadata": {
    "ExecuteTime": {
     "end_time": "2021-09-06T21:37:31.204494Z",
     "start_time": "2021-09-06T21:37:29.272130Z"
    }
   },
   "outputs": [],
   "source": [
    "from tensorflow.keras.layers import Conv2D, Dense, Dropout, Flatten, InputLayer, MaxPooling2D"
   ]
  },
  {
   "cell_type": "code",
   "execution_count": 4,
   "id": "stable-swedish",
   "metadata": {
    "ExecuteTime": {
     "end_time": "2021-09-06T21:37:31.504236Z",
     "start_time": "2021-09-06T21:37:31.246110Z"
    }
   },
   "outputs": [
    {
     "name": "stdout",
     "output_type": "stream",
     "text": [
      "(60000, 28, 28) (60000,) (10000, 28, 28) [7 2 1 ... 4 5 6]\n"
     ]
    }
   ],
   "source": [
    "(train_images, train_labels), (test_images, test_labels) = mnist.load_data()\n",
    "print(train_images.shape, train_labels.shape, test_images.shape, test_labels)"
   ]
  },
  {
   "cell_type": "code",
   "execution_count": 5,
   "id": "assigned-jacob",
   "metadata": {
    "ExecuteTime": {
     "end_time": "2021-09-06T21:37:31.636952Z",
     "start_time": "2021-09-06T21:37:31.506060Z"
    }
   },
   "outputs": [
    {
     "name": "stdout",
     "output_type": "stream",
     "text": [
      "(60000, 28, 28, 1) (60000,) (10000, 28, 28, 1) (10000,)\n"
     ]
    }
   ],
   "source": [
    "X = np.expand_dims(train_images, -1).astype(\"float32\") / 255 \n",
    "X_tst = np.expand_dims(test_images, -1).astype(\"float32\") / 255\n",
    "print(X.shape, train_labels.shape, X_tst.shape, test_labels.shape)"
   ]
  },
  {
   "cell_type": "code",
   "execution_count": 6,
   "id": "cooperative-northern",
   "metadata": {
    "ExecuteTime": {
     "end_time": "2021-09-06T21:37:31.712176Z",
     "start_time": "2021-09-06T21:37:31.638330Z"
    }
   },
   "outputs": [
    {
     "name": "stdout",
     "output_type": "stream",
     "text": [
      "Model: \"sequential\"\n",
      "_________________________________________________________________\n",
      "Layer (type)                 Output Shape              Param #   \n",
      "=================================================================\n",
      "conv2d (Conv2D)              (None, 26, 26, 32)        320       \n",
      "_________________________________________________________________\n",
      "max_pooling2d (MaxPooling2D) (None, 13, 13, 32)        0         \n",
      "_________________________________________________________________\n",
      "conv2d_1 (Conv2D)            (None, 11, 11, 32)        9248      \n",
      "_________________________________________________________________\n",
      "max_pooling2d_1 (MaxPooling2 (None, 5, 5, 32)          0         \n",
      "_________________________________________________________________\n",
      "flatten (Flatten)            (None, 800)               0         \n",
      "_________________________________________________________________\n",
      "dropout (Dropout)            (None, 800)               0         \n",
      "_________________________________________________________________\n",
      "dense (Dense)                (None, 10)                8010      \n",
      "=================================================================\n",
      "Total params: 17,578\n",
      "Trainable params: 17,578\n",
      "Non-trainable params: 0\n",
      "_________________________________________________________________\n"
     ]
    }
   ],
   "source": [
    "model = Sequential([\n",
    "    InputLayer(input_shape=(28, 28, 1)),\n",
    "    Conv2D(32, kernel_size=(3, 3), activation='relu'),\n",
    "    MaxPooling2D(pool_size=(2, 2)),\n",
    "    Conv2D(32, kernel_size=(3, 3), activation='relu'),\n",
    "    MaxPooling2D(pool_size=(2, 2)),\n",
    "    Flatten(),\n",
    "    Dropout(.5),\n",
    "    Dense(10, activation='softmax')\n",
    "])\n",
    "\n",
    "model.compile(optimizer='adam',\n",
    "              loss='sparse_categorical_crossentropy',\n",
    "              metrics=['accuracy'])\n",
    "\n",
    "model.summary()"
   ]
  },
  {
   "cell_type": "code",
   "execution_count": 7,
   "id": "applied-values",
   "metadata": {
    "ExecuteTime": {
     "end_time": "2021-09-06T21:37:55.831965Z",
     "start_time": "2021-09-06T21:37:31.713498Z"
    }
   },
   "outputs": [
    {
     "name": "stdout",
     "output_type": "stream",
     "text": [
      "Epoch 1/3\n",
      "469/469 [==============================] - 8s 16ms/step - loss: 0.4528 - accuracy: 0.8560\n",
      "Epoch 2/3\n",
      "469/469 [==============================] - 8s 17ms/step - loss: 0.1375 - accuracy: 0.9583\n",
      "Epoch 3/3\n",
      "469/469 [==============================] - 8s 17ms/step - loss: 0.1026 - accuracy: 0.9681\n"
     ]
    },
    {
     "data": {
      "text/plain": [
       "<tensorflow.python.keras.callbacks.History at 0x7f9ff8437850>"
      ]
     },
     "execution_count": 7,
     "metadata": {},
     "output_type": "execute_result"
    }
   ],
   "source": [
    "model.fit(X, train_labels, epochs=3, batch_size=128)"
   ]
  },
  {
   "cell_type": "code",
   "execution_count": 8,
   "id": "fluid-spain",
   "metadata": {
    "ExecuteTime": {
     "end_time": "2021-09-06T21:37:56.505612Z",
     "start_time": "2021-09-06T21:37:55.835025Z"
    }
   },
   "outputs": [
    {
     "name": "stdout",
     "output_type": "stream",
     "text": [
      "[4.8698844e-08 7.9686885e-10 4.2747351e-06 9.6295025e-07 8.5404149e-11\n",
      " 3.1321712e-09 4.9731327e-14 9.9999213e-01 5.4194807e-08 2.5541756e-06]\n"
     ]
    }
   ],
   "source": [
    "p = model.predict(X_tst)\n",
    "print(p[0])"
   ]
  },
  {
   "cell_type": "code",
   "execution_count": 9,
   "id": "central-month",
   "metadata": {
    "ExecuteTime": {
     "end_time": "2021-09-06T21:37:56.688269Z",
     "start_time": "2021-09-06T21:37:56.507089Z"
    }
   },
   "outputs": [
    {
     "data": {
      "text/plain": [
       "Text(0, 0.5, 'Probability Score')"
      ]
     },
     "execution_count": 9,
     "metadata": {},
     "output_type": "execute_result"
    },
    {
     "data": {
      "image/png": "[encoded data removed]",
      "text/plain": [
       "<Figure size 432x288 with 1 Axes>"
      ]
     },
     "metadata": {},
     "output_type": "display_data"
    }
   ],
   "source": [
    "ax = pd.Series(p[0]).plot.bar()\n",
    "ax.set_xlabel('Digits')\n",
    "ax.set_ylabel('Probability Score')"
   ]
  },
  {
   "cell_type": "code",
   "execution_count": 10,
   "id": "turkish-austria",
   "metadata": {
    "ExecuteTime": {
     "end_time": "2021-09-06T21:37:57.507983Z",
     "start_time": "2021-09-06T21:37:56.690080Z"
    }
   },
   "outputs": [
    {
     "name": "stdout",
     "output_type": "stream",
     "text": [
      "313/313 [==============================] - 1s 2ms/step - loss: 0.0503 - accuracy: 0.9851\n",
      "test_acc: 0.9851\n"
     ]
    }
   ],
   "source": [
    "test_loss, test_acc = model.evaluate(X_tst, test_labels)\n",
    "print(f\"test_acc: {test_acc:.4f}\")"
   ]
  },
  {
   "cell_type": "code",
   "execution_count": null,
   "id": "determined-laser",
   "metadata": {},
   "outputs": [],
   "source": []
  }
 ],
 "metadata": {
  "kernelspec": {
   "display_name": "kaggle",
   "language": "python",
   "name": "kaggle"
  },
  "language_info": {
   "codemirror_mode": {
    "name": "ipython",
    "version": 3
   },
   "file_extension": ".py",
   "mimetype": "text/x-python",
   "name": "python",
   "nbconvert_exporter": "python",
   "pygments_lexer": "ipython3",
   "version": "3.8.5"
  },
  "toc": {
   "base_numbering": 1,
   "nav_menu": {},
   "number_sections": true,
   "sideBar": true,
   "skip_h1_title": true,
   "title_cell": "Table of Contents",
   "title_sidebar": "Contents",
   "toc_cell": false,
   "toc_position": {},
   "toc_section_display": true,
   "toc_window_display": false
  }
 },
 "nbformat": 4,
 "nbformat_minor": 5
}
