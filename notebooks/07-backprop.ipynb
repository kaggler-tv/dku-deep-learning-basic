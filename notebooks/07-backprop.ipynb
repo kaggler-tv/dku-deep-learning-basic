{
 "cells": [
  {
   "cell_type": "markdown",
   "metadata": {},
   "source": [
    "# 선형회귀 데모"
   ]
  },
  {
   "cell_type": "markdown",
   "metadata": {},
   "source": [
    "## 라이브러리 import 및 설정"
   ]
  },
  {
   "cell_type": "code",
   "execution_count": 1,
   "metadata": {
    "ExecuteTime": {
     "end_time": "2021-09-07T07:08:09.537987Z",
     "start_time": "2021-09-07T07:08:09.145618Z"
    }
   },
   "outputs": [],
   "source": [
    "%reload_ext autoreload\n",
    "%autoreload 2\n",
    "%matplotlib inline"
   ]
  },
  {
   "cell_type": "code",
   "execution_count": 2,
   "metadata": {
    "ExecuteTime": {
     "end_time": "2021-09-07T07:08:10.292310Z",
     "start_time": "2021-09-07T07:08:09.539714Z"
    }
   },
   "outputs": [],
   "source": [
    "from matplotlib import pyplot as plt\n",
    "from matplotlib import rcParams\n",
    "import numpy as np\n",
    "from pathlib import Path\n",
    "import pandas as pd\n",
    "import seaborn as sns\n",
    "from tqdm.notebook import tqdm\n",
    "import warnings"
   ]
  },
  {
   "cell_type": "code",
   "execution_count": 3,
   "metadata": {
    "ExecuteTime": {
     "end_time": "2021-09-07T07:08:10.312044Z",
     "start_time": "2021-09-07T07:08:10.294207Z"
    }
   },
   "outputs": [],
   "source": [
    "rcParams['figure.figsize'] = (16, 8)\n",
    "plt.style.use('fivethirtyeight')\n",
    "pd.set_option('max_columns', 100)\n",
    "pd.set_option(\"display.precision\", 4)\n",
    "warnings.simplefilter('ignore')\n",
    "np.set_printoptions(4)"
   ]
  },
  {
   "cell_type": "markdown",
   "metadata": {},
   "source": [
    "## 학습데이터 로드"
   ]
  },
  {
   "cell_type": "markdown",
   "metadata": {},
   "source": [
    "데이터는 [Dacon 단국대 소/중 데이터 분석 AI 경진대회 웹사이트](https://www.dacon.io/competitions/official/235638/data/)에서 다운로드 받아 `../input` 폴더에 저장."
   ]
  },
  {
   "cell_type": "code",
   "execution_count": 4,
   "metadata": {
    "ExecuteTime": {
     "end_time": "2021-09-07T07:08:10.331216Z",
     "start_time": "2021-09-07T07:08:10.314059Z"
    }
   },
   "outputs": [],
   "source": [
    "data_dir = Path('../input/')\n",
    "trn_file = data_dir / 'train.csv'\n",
    "seed = 42\n",
    "np.random.seed(seed)"
   ]
  },
  {
   "cell_type": "code",
   "execution_count": 5,
   "metadata": {
    "ExecuteTime": {
     "end_time": "2021-09-07T07:08:11.140422Z",
     "start_time": "2021-09-07T07:08:10.332477Z"
    }
   },
   "outputs": [
    {
     "name": "stdout",
     "output_type": "stream",
     "text": [
      "(320000, 19)\n"
     ]
    },
    {
     "data": {
      "text/html": [
       "<div>\n",
       "<style scoped>\n",
       "    .dataframe tbody tr th:only-of-type {\n",
       "        vertical-align: middle;\n",
       "    }\n",
       "\n",
       "    .dataframe tbody tr th {\n",
       "        vertical-align: top;\n",
       "    }\n",
       "\n",
       "    .dataframe thead th {\n",
       "        text-align: right;\n",
       "    }\n",
       "</style>\n",
       "<table border=\"1\" class=\"dataframe\">\n",
       "  <thead>\n",
       "    <tr style=\"text-align: right;\">\n",
       "      <th></th>\n",
       "      <th>u</th>\n",
       "      <th>g</th>\n",
       "      <th>r</th>\n",
       "      <th>i</th>\n",
       "      <th>z</th>\n",
       "      <th>redshift</th>\n",
       "      <th>dered_u</th>\n",
       "      <th>dered_g</th>\n",
       "      <th>dered_r</th>\n",
       "      <th>dered_i</th>\n",
       "      <th>dered_z</th>\n",
       "      <th>nObserve</th>\n",
       "      <th>nDetect</th>\n",
       "      <th>airmass_u</th>\n",
       "      <th>airmass_g</th>\n",
       "      <th>airmass_r</th>\n",
       "      <th>airmass_i</th>\n",
       "      <th>airmass_z</th>\n",
       "      <th>class</th>\n",
       "    </tr>\n",
       "    <tr>\n",
       "      <th>id</th>\n",
       "      <th></th>\n",
       "      <th></th>\n",
       "      <th></th>\n",
       "      <th></th>\n",
       "      <th></th>\n",
       "      <th></th>\n",
       "      <th></th>\n",
       "      <th></th>\n",
       "      <th></th>\n",
       "      <th></th>\n",
       "      <th></th>\n",
       "      <th></th>\n",
       "      <th></th>\n",
       "      <th></th>\n",
       "      <th></th>\n",
       "      <th></th>\n",
       "      <th></th>\n",
       "      <th></th>\n",
       "      <th></th>\n",
       "    </tr>\n",
       "  </thead>\n",
       "  <tbody>\n",
       "    <tr>\n",
       "      <th>0</th>\n",
       "      <td>23.2640</td>\n",
       "      <td>20.3368</td>\n",
       "      <td>19.0095</td>\n",
       "      <td>17.6724</td>\n",
       "      <td>16.9396</td>\n",
       "      <td>-8.1086e-05</td>\n",
       "      <td>23.1243</td>\n",
       "      <td>20.2578</td>\n",
       "      <td>18.9551</td>\n",
       "      <td>17.6321</td>\n",
       "      <td>16.9089</td>\n",
       "      <td>18</td>\n",
       "      <td>18</td>\n",
       "      <td>1.1898</td>\n",
       "      <td>1.1907</td>\n",
       "      <td>1.1890</td>\n",
       "      <td>1.1894</td>\n",
       "      <td>1.1902</td>\n",
       "      <td>0</td>\n",
       "    </tr>\n",
       "    <tr>\n",
       "      <th>1</th>\n",
       "      <td>15.0521</td>\n",
       "      <td>14.0620</td>\n",
       "      <td>13.4524</td>\n",
       "      <td>13.2684</td>\n",
       "      <td>13.1689</td>\n",
       "      <td>4.5061e-03</td>\n",
       "      <td>14.9664</td>\n",
       "      <td>14.0045</td>\n",
       "      <td>13.4114</td>\n",
       "      <td>13.2363</td>\n",
       "      <td>13.1347</td>\n",
       "      <td>1</td>\n",
       "      <td>1</td>\n",
       "      <td>1.2533</td>\n",
       "      <td>1.2578</td>\n",
       "      <td>1.2488</td>\n",
       "      <td>1.2510</td>\n",
       "      <td>1.2555</td>\n",
       "      <td>1</td>\n",
       "    </tr>\n",
       "    <tr>\n",
       "      <th>2</th>\n",
       "      <td>16.7864</td>\n",
       "      <td>15.8254</td>\n",
       "      <td>15.5363</td>\n",
       "      <td>15.3935</td>\n",
       "      <td>15.3500</td>\n",
       "      <td>4.7198e-04</td>\n",
       "      <td>16.6076</td>\n",
       "      <td>15.6866</td>\n",
       "      <td>15.4400</td>\n",
       "      <td>15.3217</td>\n",
       "      <td>15.2961</td>\n",
       "      <td>2</td>\n",
       "      <td>2</td>\n",
       "      <td>1.0225</td>\n",
       "      <td>1.0241</td>\n",
       "      <td>1.0210</td>\n",
       "      <td>1.0217</td>\n",
       "      <td>1.0233</td>\n",
       "      <td>0</td>\n",
       "    </tr>\n",
       "    <tr>\n",
       "      <th>3</th>\n",
       "      <td>25.6606</td>\n",
       "      <td>21.1887</td>\n",
       "      <td>20.2212</td>\n",
       "      <td>19.8949</td>\n",
       "      <td>19.6346</td>\n",
       "      <td>5.8143e-06</td>\n",
       "      <td>25.3536</td>\n",
       "      <td>20.9947</td>\n",
       "      <td>20.0873</td>\n",
       "      <td>19.7947</td>\n",
       "      <td>19.5552</td>\n",
       "      <td>4</td>\n",
       "      <td>3</td>\n",
       "      <td>1.2054</td>\n",
       "      <td>1.2061</td>\n",
       "      <td>1.2049</td>\n",
       "      <td>1.2051</td>\n",
       "      <td>1.2057</td>\n",
       "      <td>0</td>\n",
       "    </tr>\n",
       "    <tr>\n",
       "      <th>4</th>\n",
       "      <td>24.4534</td>\n",
       "      <td>20.6992</td>\n",
       "      <td>19.0424</td>\n",
       "      <td>18.3242</td>\n",
       "      <td>17.9826</td>\n",
       "      <td>-3.3247e-05</td>\n",
       "      <td>23.7714</td>\n",
       "      <td>20.4338</td>\n",
       "      <td>18.8630</td>\n",
       "      <td>18.1903</td>\n",
       "      <td>17.8759</td>\n",
       "      <td>13</td>\n",
       "      <td>12</td>\n",
       "      <td>1.1939</td>\n",
       "      <td>1.1943</td>\n",
       "      <td>1.1937</td>\n",
       "      <td>1.1938</td>\n",
       "      <td>1.1941</td>\n",
       "      <td>0</td>\n",
       "    </tr>\n",
       "  </tbody>\n",
       "</table>\n",
       "</div>"
      ],
      "text/plain": [
       "          u        g        r        i        z    redshift  dered_u  dered_g  \\\n",
       "id                                                                              \n",
       "0   23.2640  20.3368  19.0095  17.6724  16.9396 -8.1086e-05  23.1243  20.2578   \n",
       "1   15.0521  14.0620  13.4524  13.2684  13.1689  4.5061e-03  14.9664  14.0045   \n",
       "2   16.7864  15.8254  15.5363  15.3935  15.3500  4.7198e-04  16.6076  15.6866   \n",
       "3   25.6606  21.1887  20.2212  19.8949  19.6346  5.8143e-06  25.3536  20.9947   \n",
       "4   24.4534  20.6992  19.0424  18.3242  17.9826 -3.3247e-05  23.7714  20.4338   \n",
       "\n",
       "    dered_r  dered_i  dered_z  nObserve  nDetect  airmass_u  airmass_g  \\\n",
       "id                                                                       \n",
       "0   18.9551  17.6321  16.9089        18       18     1.1898     1.1907   \n",
       "1   13.4114  13.2363  13.1347         1        1     1.2533     1.2578   \n",
       "2   15.4400  15.3217  15.2961         2        2     1.0225     1.0241   \n",
       "3   20.0873  19.7947  19.5552         4        3     1.2054     1.2061   \n",
       "4   18.8630  18.1903  17.8759        13       12     1.1939     1.1943   \n",
       "\n",
       "    airmass_r  airmass_i  airmass_z  class  \n",
       "id                                          \n",
       "0      1.1890     1.1894     1.1902      0  \n",
       "1      1.2488     1.2510     1.2555      1  \n",
       "2      1.0210     1.0217     1.0233      0  \n",
       "3      1.2049     1.2051     1.2057      0  \n",
       "4      1.1937     1.1938     1.1941      0  "
      ]
     },
     "execution_count": 5,
     "metadata": {},
     "output_type": "execute_result"
    }
   ],
   "source": [
    "trn = pd.read_csv(trn_file, index_col=0)\n",
    "print(trn.shape)\n",
    "trn.head()"
   ]
  },
  {
   "cell_type": "code",
   "execution_count": 6,
   "metadata": {
    "ExecuteTime": {
     "end_time": "2021-09-07T07:08:11.195777Z",
     "start_time": "2021-09-07T07:08:11.141764Z"
    }
   },
   "outputs": [
    {
     "name": "stdout",
     "output_type": "stream",
     "text": [
      "(200004, 1) (200004,)\n"
     ]
    }
   ],
   "source": [
    "X = trn[trn['class'] != 0][['u']].values\n",
    "y = trn[trn['class'] != 0]['dered_u'].values\n",
    "print(X.shape, y.shape)"
   ]
  },
  {
   "cell_type": "markdown",
   "metadata": {},
   "source": [
    "## NumPy를 이용한 역전파 학습"
   ]
  },
  {
   "cell_type": "code",
   "execution_count": 7,
   "metadata": {
    "ExecuteTime": {
     "end_time": "2021-09-07T07:08:11.216644Z",
     "start_time": "2021-09-07T07:08:11.197245Z"
    }
   },
   "outputs": [
    {
     "name": "stdout",
     "output_type": "stream",
     "text": [
      "w1: [[-0.0013  0.0045]]\n",
      "b1: [[0.0023 0.001 ]]\n",
      "w2: [[-0.0034]\n",
      " [-0.0034]]\n",
      "b2: [[-0.0044]]\n"
     ]
    }
   ],
   "source": [
    "alpha = .001\n",
    "\n",
    "n_input = 1\n",
    "n_hidden = 2\n",
    "n_output = 1\n",
    "\n",
    "w1 = (np.random.rand(n_input, n_hidden) - .5) * .01\n",
    "b1 = (np.random.rand(1, n_hidden) - .5) * .01\n",
    "\n",
    "w2 = (np.random.rand(n_hidden, n_output) - .5) * .01\n",
    "b2 = (np.random.rand(1, n_output) - .5) * .01\n",
    "\n",
    "epoch = 5\n",
    "print(f'w1: {w1}\\nb1: {b1}\\nw2: {w2}\\nb2: {b2}')"
   ]
  },
  {
   "cell_type": "code",
   "execution_count": 8,
   "metadata": {
    "ExecuteTime": {
     "end_time": "2021-09-07T07:08:11.305609Z",
     "start_time": "2021-09-07T07:08:11.219429Z"
    }
   },
   "outputs": [
    {
     "data": {
      "application/vnd.jupyter.widget-view+json": {
       "model_id": "ef97998bab9f4209880c66a1f5c9e29a",
       "version_major": 2,
       "version_minor": 0
      },
      "text/plain": [
       "  0%|          | 0/5 [00:00<?, ?it/s]"
      ]
     },
     "metadata": {},
     "output_type": "display_data"
    }
   ],
   "source": [
    "for i in tqdm(range(epoch)):\n",
    "    idx = np.arange(len(y))\n",
    "    np.random.shuffle(idx)\n",
    "    for X_i, y_i in zip(X[idx[:100]], y[idx[:100]]):\n",
    "        X_i = X_i.reshape(1, n_input)\n",
    "        \n",
    "        # forward pass\n",
    "        z = X_i @ w1 + b1\n",
    "        a = np.maximum(z, 0.)\n",
    "        o = (a @ w2 + b2)[0][0]\n",
    "        \n",
    "        # backpropagation\n",
    "        delta2 = o - y_i\n",
    "        delta1 = (o - y_i) * w2.T\n",
    "        delta1[z < 0.] = 0.\n",
    "        \n",
    "        w2 -= alpha * delta2 * a.T\n",
    "        b2 -= alpha * delta2\n",
    "        \n",
    "        w1 -= alpha * X_i.T @ delta1\n",
    "        b1 -= alpha * delta1"
   ]
  },
  {
   "cell_type": "code",
   "execution_count": 9,
   "metadata": {
    "ExecuteTime": {
     "end_time": "2021-09-07T07:08:11.328021Z",
     "start_time": "2021-09-07T07:08:11.307489Z"
    }
   },
   "outputs": [
    {
     "name": "stdout",
     "output_type": "stream",
     "text": [
      "(1, 2) (1, 2) () () (1, 2)\n"
     ]
    }
   ],
   "source": [
    "print(z.shape, a.shape, o.shape, delta2.shape, delta1.shape)"
   ]
  },
  {
   "cell_type": "code",
   "execution_count": 10,
   "metadata": {
    "ExecuteTime": {
     "end_time": "2021-09-07T07:08:11.348555Z",
     "start_time": "2021-09-07T07:08:11.329456Z"
    }
   },
   "outputs": [
    {
     "name": "stdout",
     "output_type": "stream",
     "text": [
      "w1: [[-0.0013  0.9831]]\n",
      "b1: [[0.0023 0.0529]]\n",
      "w2: [[-0.0034]\n",
      " [ 0.9845]]\n",
      "b2: [[0.4485]]\n"
     ]
    }
   ],
   "source": [
    "print(f'w1: {w1}\\nb1: {b1}\\nw2: {w2}\\nb2: {b2}')"
   ]
  },
  {
   "cell_type": "code",
   "execution_count": 11,
   "metadata": {
    "ExecuteTime": {
     "end_time": "2021-09-07T07:08:14.115966Z",
     "start_time": "2021-09-07T07:08:11.350139Z"
    }
   },
   "outputs": [
    {
     "data": {
      "text/plain": [
       "<matplotlib.legend.Legend at 0x7fb8f4f00a30>"
      ]
     },
     "execution_count": 11,
     "metadata": {},
     "output_type": "execute_result"
    },
    {
     "data": {
      "image/png": "[encoded data removed]",
      "text/plain": [
       "<Figure size 576x576 with 1 Axes>"
      ]
     },
     "metadata": {},
     "output_type": "display_data"
    }
   ],
   "source": [
    "plt.figure(figsize=(8, 8))\n",
    "plt.scatter(X, y, alpha=.2)\n",
    "plt.scatter(X, np.maximum(X @ w1 + b1, 0.) @ w2 + b2, alpha=.2, color='darkorange')\n",
    "plt.xlim(0, 40)\n",
    "plt.ylim(0, 40)\n",
    "plt.xlabel('x')\n",
    "plt.ylabel('y')\n",
    "plt.legend(['data', 'prediction'])"
   ]
  }
 ],
 "metadata": {
  "kernelspec": {
   "display_name": "Python 3",
   "language": "python",
   "name": "python3"
  },
  "language_info": {
   "codemirror_mode": {
    "name": "ipython",
    "version": 3
   },
   "file_extension": ".py",
   "mimetype": "text/x-python",
   "name": "python",
   "nbconvert_exporter": "python",
   "pygments_lexer": "ipython3",
   "version": "3.8.5"
  },
  "toc": {
   "base_numbering": 1,
   "nav_menu": {},
   "number_sections": true,
   "sideBar": true,
   "skip_h1_title": true,
   "title_cell": "Table of Contents",
   "title_sidebar": "Contents",
   "toc_cell": false,
   "toc_position": {},
   "toc_section_display": true,
   "toc_window_display": true
  }
 },
 "nbformat": 4,
 "nbformat_minor": 4
}
